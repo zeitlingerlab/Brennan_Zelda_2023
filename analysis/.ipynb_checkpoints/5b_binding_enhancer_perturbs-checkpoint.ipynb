{
 "cells": [
  {
   "cell_type": "markdown",
   "metadata": {},
   "source": [
    "# Introduction\n",
    "\n",
    "The purpose of this .ipynb is to generate any-combination of mutation perturbations of motifs across a given set of regions and to plot the predictions alongside the contribution scores. The steps involved in this process are as follows:\n",
    "\n",
    "1. Import enhancer regions based on annotated bed file.\n",
    "2. Import motif regions based on curated set.\n",
    "3. Match (1) and (2) for general overlaps to cut out motifs for filtering.\n",
    "4. Redo 3, but match accurately and assign `example_idx` to motifs and enhancers for perturbation analysis.\n",
    "5. Perturb the actual region sequences based on these motif locations in a combinatorial fashion.\n",
    "6. Plot the predictions and contribution scores\n",
    "    + Annotate motif locations in addition to which motifs are being removed.\n",
    "\n",
    "We will be using `ZDTBCG` model with enhancer regions curated by Kaelan based on annotated enhancers. \n",
    "\n",
    "# Computational setup"
   ]
  },
  {
   "cell_type": "code",
   "execution_count": 1,
   "metadata": {},
   "outputs": [
    {
     "name": "stderr",
     "output_type": "stream",
     "text": [
      "Using TensorFlow backend.\n",
      "2022-08-04 10:14:26,999 [INFO] Note: NumExpr detected 64 cores but \"NUMEXPR_MAX_THREADS\" not set, so enforcing safe limit of 8.\n",
      "2022-08-04 10:14:27,003 [INFO] NumExpr defaulting to 8 threads.\n"
     ]
    }
   ],
   "source": [
    "import warnings\n",
    "warnings.filterwarnings(\"ignore\")\n",
    "from tensorflow.python.util import deprecation\n",
    "deprecation._PRINT_DEPRECATION_WARNINGS = False\n",
    "\n",
    "#Packages\n",
    "import os\n",
    "import sys\n",
    "import pandas as pd\n",
    "import numpy as np\n",
    "from tqdm import tqdm\n",
    "from pybedtools import BedTool\n",
    "from bpnet.cli.contrib import bpnet_contrib\n",
    "from bpnet.preproc import resize_interval\n",
    "\n",
    "# Settings\n",
    "os.chdir('/l/Zeitlinger/ZeitlingerLab/Manuscripts/Zelda_and_Nucleosomes/Analysis/analysis/')\n",
    "pd.set_option('display.max_columns', 100)\n",
    "\n",
    "# Custom commands\n",
    "sys.path.insert(0, f'scripts/py')\n",
    "from bpnet_data_format_functions import myround, myfloor, myceiling, df_to_intervals, tidy_bpnet_predictions_nexus, tidy_bpnet_contributions\n",
    "from bpnet_motif_functions import remove_palindromic_motif_duplicates, filter_overlapping_motifs_by_priority\n",
    "from bpnet_perturb_functions import random_seq_onehot, generate_perturbs_across_window, plot_perturbs_across_window\n",
    "\n",
    "#Pre-existing variables\n",
    "figure_filepath = 'figures/5b_binding_enhancer_perturbs'\n",
    "fasta_file = f'../data/indexes/bowtie2/dm6.fa'\n",
    "model_dir = f'bpnet/models/optimized_model/fold1/'\n",
    "contrib_file = f'bpnet/preds/fold1/contrib.h5'\n",
    "modisco_dir = f'bpnet/modisco/fold1'\n",
    "curated_motifs = f'bed/mapped_motifs/all_instances_curated_0based.bed'\n",
    "curated_regions = f'bed/mapped_motifs/all_grouped_regions_0based.bed'\n",
    "enhancer_regions_file = f'bed/enhancers/enhancers_for_models.bed'\n",
    "tasks = ['Zld', 'Dl', 'Twi', 'Bcd', 'Cad', 'GAF']\n",
    "enhancer_contrib_file = f'bpnet/preds/fold1/enhancers_for_models.h5'\n",
    "enhancer_bed_file = f'bed/enhancers/enhancers_for_models.bed3'\n",
    "\n",
    "task_color_dict = {'Zld': '#d53e4f', 'Dl': '#fc8d59', 'Twi': '#fee08b', 'Bcd': '#e6f598', 'Cad': '#99d594',  'GAF': '#3288bd'}"
   ]
  },
  {
   "cell_type": "code",
   "execution_count": 2,
   "metadata": {},
   "outputs": [],
   "source": [
    "!mkdir -p {figure_filepath}\n",
    "!mkdir -p tsv/perturbs/binding/enhancer"
   ]
  },
  {
   "cell_type": "markdown",
   "metadata": {},
   "source": [
    "# Generate contributions across grouped regions\n",
    "\n",
    "We will generate contribution scores across our set of enhancer regions. This will control for indexes."
   ]
  },
  {
   "cell_type": "code",
   "execution_count": 3,
   "metadata": {},
   "outputs": [],
   "source": [
    "#%%script false --no-raise-error\n",
    "!cat {enhancer_regions_file} | cut -f 1,2,3 > {enhancer_bed_file}"
   ]
  },
  {
   "cell_type": "code",
   "execution_count": 4,
   "metadata": {},
   "outputs": [
    {
     "name": "stderr",
     "output_type": "stream",
     "text": [
      "2022-08-04 10:14:31,107 [INFO] Loading the config files\n",
      "2022-08-04 10:14:31,112 [INFO] Creating the dataset\n",
      "TF-MoDISco is using the TensorFlow backend.\n",
      "2022-08-04 10:14:54,390 [INFO] Using the following interpretation targets:\n"
     ]
    },
    {
     "name": "stdout",
     "output_type": "stream",
     "text": [
      "Bcd/profile/wn\n",
      "Bcd/counts/pre-act\n",
      "Cad/profile/wn\n",
      "Cad/counts/pre-act\n",
      "Dl/profile/wn\n",
      "Dl/counts/pre-act\n",
      "GAF/profile/wn\n",
      "GAF/counts/pre-act\n",
      "Twi/profile/wn\n",
      "Twi/counts/pre-act\n",
      "Zld/profile/wn\n",
      "Zld/counts/pre-act\n"
     ]
    },
    {
     "name": "stderr",
     "output_type": "stream",
     "text": [
      "  0%|          | 0/1.0 [00:00<?, ?it/s]"
     ]
    },
    {
     "name": "stdout",
     "output_type": "stream",
     "text": [
      "DeepExplain: running \"deeplift\" explanation method (5)\n",
      "Model with multiple inputs:  True\n",
      "DeepExplain: running \"deeplift\" explanation method (5)\n",
      "Model with multiple inputs:  True\n",
      "DeepExplain: running \"deeplift\" explanation method (5)\n",
      "Model with multiple inputs:  True\n",
      "DeepExplain: running \"deeplift\" explanation method (5)\n",
      "Model with multiple inputs:  True\n",
      "DeepExplain: running \"deeplift\" explanation method (5)\n",
      "Model with multiple inputs:  True\n",
      "DeepExplain: running \"deeplift\" explanation method (5)\n",
      "Model with multiple inputs:  True\n",
      "DeepExplain: running \"deeplift\" explanation method (5)\n",
      "Model with multiple inputs:  True\n",
      "DeepExplain: running \"deeplift\" explanation method (5)\n",
      "Model with multiple inputs:  True\n",
      "DeepExplain: running \"deeplift\" explanation method (5)\n",
      "Model with multiple inputs:  True\n",
      "DeepExplain: running \"deeplift\" explanation method (5)\n",
      "Model with multiple inputs:  True\n",
      "DeepExplain: running \"deeplift\" explanation method (5)\n",
      "Model with multiple inputs:  True\n",
      "DeepExplain: running \"deeplift\" explanation method (5)\n",
      "Model with multiple inputs:  True\n",
      "DeepExplain: running \"deeplift\" explanation method (5)\n",
      "Model with multiple inputs:  True\n",
      "DeepExplain: running \"deeplift\" explanation method (5)\n",
      "Model with multiple inputs:  True\n",
      "DeepExplain: running \"deeplift\" explanation method (5)\n",
      "Model with multiple inputs:  True\n",
      "DeepExplain: running \"deeplift\" explanation method (5)\n",
      "Model with multiple inputs:  True\n",
      "DeepExplain: running \"deeplift\" explanation method (5)\n",
      "Model with multiple inputs:  True\n",
      "DeepExplain: running \"deeplift\" explanation method (5)\n",
      "Model with multiple inputs:  True\n",
      "DeepExplain: running \"deeplift\" explanation method (5)\n",
      "Model with multiple inputs:  True\n",
      "DeepExplain: running \"deeplift\" explanation method (5)\n",
      "Model with multiple inputs:  True\n",
      "DeepExplain: running \"deeplift\" explanation method (5)\n",
      "Model with multiple inputs:  True\n",
      "DeepExplain: running \"deeplift\" explanation method (5)\n",
      "Model with multiple inputs:  True\n",
      "DeepExplain: running \"deeplift\" explanation method (5)\n",
      "Model with multiple inputs:  True\n",
      "DeepExplain: running \"deeplift\" explanation method (5)\n",
      "Model with multiple inputs:  True\n",
      "DeepExplain: running \"deeplift\" explanation method (5)\n",
      "Model with multiple inputs:  True\n",
      "DeepExplain: running \"deeplift\" explanation method (5)\n",
      "Model with multiple inputs:  True\n",
      "DeepExplain: running \"deeplift\" explanation method (5)\n",
      "Model with multiple inputs:  True\n",
      "DeepExplain: running \"deeplift\" explanation method (5)\n",
      "Model with multiple inputs:  True\n",
      "DeepExplain: running \"deeplift\" explanation method (5)\n",
      "Model with multiple inputs:  True\n",
      "DeepExplain: running \"deeplift\" explanation method (5)\n",
      "Model with multiple inputs:  True\n"
     ]
    },
    {
     "name": "stderr",
     "output_type": "stream",
     "text": [
      "100%|██████████| 1/1.0 [02:15<00:00, 135.98s/it]\n",
      "2022-08-04 10:17:12,254 [INFO] Done. Contribution score file was saved to: bpnet/preds/fold1/enhancers_for_models.h5\n"
     ]
    }
   ],
   "source": [
    "#%%script false --no-raise-error\n",
    "bpnet_contrib(model_dir = model_dir, \n",
    "              output_file = enhancer_contrib_file, \n",
    "              method = 'deeplift', fasta_file = fasta_file,\n",
    "              regions = enhancer_bed_file, \n",
    "              overwrite = True)"
   ]
  },
  {
   "cell_type": "markdown",
   "metadata": {},
   "source": [
    "# Connect curated motifs with enhancer ids \n",
    "\n",
    "The enhancer contribution file will have each enhancer as an `example_idx`. Match the curated motifs to the correct range such that we can generate perturbations."
   ]
  },
  {
   "cell_type": "code",
   "execution_count": 5,
   "metadata": {},
   "outputs": [],
   "source": [
    "#Find overlaps between motifs to cut down on motifs\n",
    "motif_ov_df = BedTool(curated_motifs).intersect(BedTool(enhancer_bed_file)).to_dataframe()"
   ]
  },
  {
   "cell_type": "code",
   "execution_count": 6,
   "metadata": {},
   "outputs": [
    {
     "data": {
      "text/plain": [
       "(302, 10)"
      ]
     },
     "execution_count": 6,
     "metadata": {},
     "output_type": "execute_result"
    }
   ],
   "source": [
    "#Import motifs\n",
    "motifs_df = BedTool(curated_motifs).to_dataframe()\n",
    "motifs_df.columns = ['example_chrom','start','end','name','score','strand']\n",
    "\n",
    "#Filter motifs by their overlap with enhancers\n",
    "motifs_df = motifs_df[motifs_df.name.isin(motif_ov_df.name)]\n",
    "\n",
    "#Separate motif name\n",
    "motifs_df['pattern_len'] = motifs_df['end'] - motifs_df['start']\n",
    "motifs_df['pattern_name'] = [n.split('_')[0] for n in motifs_df.name]\n",
    "motifs_df['motif_id'] = [n.split('_')[1] for n in motifs_df.name]\n",
    "motifs_df['region_id'] = [n.split('_')[2] for n in motifs_df.name]\n",
    "motifs_df.shape"
   ]
  },
  {
   "cell_type": "markdown",
   "metadata": {},
   "source": [
    "Get enhancer coordinates over the exact contribution window."
   ]
  },
  {
   "cell_type": "code",
   "execution_count": 7,
   "metadata": {},
   "outputs": [],
   "source": [
    "from bpnet.cli.contrib import ContribFile\n",
    "\n",
    "#Extract enhancer coordinates\n",
    "contrib_file = ContribFile(enhancer_contrib_file)\n",
    "enhancer_coords_df = contrib_file.get_ranges()"
   ]
  },
  {
   "cell_type": "code",
   "execution_count": 8,
   "metadata": {},
   "outputs": [
    {
     "data": {
      "text/html": [
       "<div>\n",
       "<style scoped>\n",
       "    .dataframe tbody tr th:only-of-type {\n",
       "        vertical-align: middle;\n",
       "    }\n",
       "\n",
       "    .dataframe tbody tr th {\n",
       "        vertical-align: top;\n",
       "    }\n",
       "\n",
       "    .dataframe thead th {\n",
       "        text-align: right;\n",
       "    }\n",
       "</style>\n",
       "<table border=\"1\" class=\"dataframe\">\n",
       "  <thead>\n",
       "    <tr style=\"text-align: right;\">\n",
       "      <th></th>\n",
       "      <th>chrom</th>\n",
       "      <th>start</th>\n",
       "      <th>end</th>\n",
       "      <th>strand</th>\n",
       "      <th>interval_from_task</th>\n",
       "      <th>idx</th>\n",
       "    </tr>\n",
       "  </thead>\n",
       "  <tbody>\n",
       "    <tr>\n",
       "      <th>0</th>\n",
       "      <td>chr3R</td>\n",
       "      <td>8698828</td>\n",
       "      <td>8699828</td>\n",
       "      <td>.</td>\n",
       "      <td></td>\n",
       "      <td>0</td>\n",
       "    </tr>\n",
       "    <tr>\n",
       "      <th>1</th>\n",
       "      <td>chr3R</td>\n",
       "      <td>8700693</td>\n",
       "      <td>8701693</td>\n",
       "      <td>.</td>\n",
       "      <td></td>\n",
       "      <td>1</td>\n",
       "    </tr>\n",
       "    <tr>\n",
       "      <th>2</th>\n",
       "      <td>chr3R</td>\n",
       "      <td>8694217</td>\n",
       "      <td>8695217</td>\n",
       "      <td>.</td>\n",
       "      <td></td>\n",
       "      <td>2</td>\n",
       "    </tr>\n",
       "    <tr>\n",
       "      <th>3</th>\n",
       "      <td>chr2R</td>\n",
       "      <td>25236999</td>\n",
       "      <td>25237999</td>\n",
       "      <td>.</td>\n",
       "      <td></td>\n",
       "      <td>3</td>\n",
       "    </tr>\n",
       "    <tr>\n",
       "      <th>4</th>\n",
       "      <td>chr2R</td>\n",
       "      <td>25225884</td>\n",
       "      <td>25226884</td>\n",
       "      <td>.</td>\n",
       "      <td></td>\n",
       "      <td>4</td>\n",
       "    </tr>\n",
       "  </tbody>\n",
       "</table>\n",
       "</div>"
      ],
      "text/plain": [
       "   chrom     start       end strand interval_from_task  idx\n",
       "0  chr3R   8698828   8699828      .                       0\n",
       "1  chr3R   8700693   8701693      .                       1\n",
       "2  chr3R   8694217   8695217      .                       2\n",
       "3  chr2R  25236999  25237999      .                       3\n",
       "4  chr2R  25225884  25226884      .                       4"
      ]
     },
     "execution_count": 8,
     "metadata": {},
     "output_type": "execute_result"
    }
   ],
   "source": [
    "enhancer_coords_df.head()"
   ]
  },
  {
   "cell_type": "markdown",
   "metadata": {},
   "source": [
    "Check for which motif overlaps with which enhancer. Filter out motifs with no overlap."
   ]
  },
  {
   "cell_type": "code",
   "execution_count": null,
   "metadata": {},
   "outputs": [
    {
     "name": "stderr",
     "output_type": "stream",
     "text": [
      "246it [00:08, 30.06it/s]"
     ]
    }
   ],
   "source": [
    "motifs_with_eidx = pd.DataFrame()\n",
    "for i,motif in tqdm(motifs_df.iterrows()):\n",
    "    enhancer_match = []\n",
    "    for j,enh in enhancer_coords_df.iterrows():\n",
    "        if motif.example_chrom == enh.chrom and motif.start > enh.start and motif.end < enh.end:\n",
    "            row_new = motif\n",
    "            row_new['example_idx'] = enh.idx\n",
    "            row_new['pattern_start'] = motif.start - enh.start\n",
    "            row_new['pattern_end'] = motif.end - enh.start\n",
    "            row_new['pattern'] = motif.pattern_name\n",
    "            motifs_with_eidx = motifs_with_eidx.append(row_new)"
   ]
  },
  {
   "cell_type": "code",
   "execution_count": null,
   "metadata": {},
   "outputs": [],
   "source": [
    "motifs_with_eidx.head()"
   ]
  },
  {
   "cell_type": "markdown",
   "metadata": {},
   "source": [
    "Show how many regions have motifs mapped across them."
   ]
  },
  {
   "cell_type": "code",
   "execution_count": null,
   "metadata": {},
   "outputs": [],
   "source": [
    "motifs_with_eidx.example_idx.value_counts().value_counts()"
   ]
  },
  {
   "cell_type": "code",
   "execution_count": null,
   "metadata": {},
   "outputs": [],
   "source": [
    "motifs_with_eidx.sort_values(['example_idx']).head(n = 10)"
   ]
  },
  {
   "cell_type": "markdown",
   "metadata": {},
   "source": [
    "# Generate perturbation plots\n",
    "\n",
    "Here we will undergo the following steps to generate perturbation plots:\n",
    "\n",
    "1. Import the formatted CWM-scanned motifs from above.\n",
    "2. For each enhancer:\n",
    "    + Perturb the motifs from (1) in a combinatorial fashion.\n",
    "    + Generate (1) profile predictions, (2) contribution scores, and (3) a list of the mutations generated.\n",
    "    + Tidy information and save as .tsv.gz for more efficient plotting in R."
   ]
  },
  {
   "cell_type": "code",
   "execution_count": null,
   "metadata": {},
   "outputs": [],
   "source": [
    "#Reassign motifs for clarity\n",
    "dfi = motifs_with_eidx\n",
    "dfi['pattern_name_unique'] = dfi['pattern_name'] + '-' + (dfi.groupby(['example_idx','pattern_name']).cumcount()+1).astype(str)\n",
    "dfi[['start','end','example_idx','pattern_start',\n",
    "     'pattern_end','pattern_len']] = dfi[['start','end','example_idx','pattern_start',\n",
    "                                          'pattern_end','pattern_len']].astype(int)\n",
    "\n",
    "#Reassign enhancers for clarity\n",
    "enhancer_coords_df['name'] = BedTool(enhancer_regions_file).to_dataframe().name\n",
    "enhancers_df = enhancer_coords_df"
   ]
  },
  {
   "cell_type": "markdown",
   "metadata": {},
   "source": [
    "Iterate through enhancers and then collect perturbation profiles for each single motif mutation across the enhancers."
   ]
  },
  {
   "cell_type": "code",
   "execution_count": null,
   "metadata": {},
   "outputs": [],
   "source": [
    "max_perturbs_per_mut = 1\n",
    "xrange = [100, 900]\n",
    "\n",
    "for ei in tqdm(dfi.example_idx.unique()):\n",
    "    #Subset motifs by window\n",
    "    dfi_across_window = dfi[dfi.example_idx==ei]\n",
    "    enhancer_df = enhancers_df[enhancers_df.idx==ei]\n",
    "    \n",
    "    #Generate perturbation predictions, contribution, and a mutant list\n",
    "    perturb_preds, _, muts = generate_perturbs_across_window(dfi = dfi_across_window, \n",
    "                                                             contrib_file = enhancer_contrib_file, \n",
    "                                                             comb_max = 1,\n",
    "                                                             model_dir = model_dir, \n",
    "                                                             return_contrib = False)\n",
    "    \n",
    "    #Save profile predictions\n",
    "    perturb_preds_format_dict = {m: {k: v[i] for k,v in perturb_preds.items()} for i,m in enumerate(muts)}\n",
    "    profile_preds_df = pd.DataFrame()\n",
    "    for i,m in enumerate(muts):\n",
    "        profile_pred_df = tidy_bpnet_predictions_nexus(perturb_preds_format_dict[m], tasks = perturb_preds.keys())\n",
    "        profile_pred_df['mut']=m\n",
    "        profile_preds_df = profile_preds_df.append(profile_pred_df)\n",
    "    profile_preds_df['enhancer_name'] = enhancer_df.name\n",
    "    profile_preds_df['enhancer_idx'] = enhancer_df.idx\n",
    "    profile_preds_df['genomic_position_0based'] = int(enhancer_df['start']) + profile_preds_df.position\n",
    "    profile_preds_df\n",
    "    profile_preds_df.to_csv(f\"tsv/perturbs/binding/enhancer/{enhancer_df['name'].iloc[0]}_predictions.tsv.gz\", \n",
    "                            index = False)"
   ]
  },
  {
   "cell_type": "markdown",
   "metadata": {},
   "source": [
    "Extract enhancer information for subsequent plotting in later analysis. "
   ]
  },
  {
   "cell_type": "code",
   "execution_count": null,
   "metadata": {},
   "outputs": [],
   "source": [
    "max_perturbs_per_mut = 1\n",
    "xrange = [100, 900]\n",
    "\n",
    "for ei in tqdm(dfi.example_idx.unique()):\n",
    "    #Subset motifs by window\n",
    "    dfi_across_window = dfi[dfi.example_idx==ei]\n",
    "    enhancer_df = enhancers_df[enhancers_df.idx==ei]\n",
    "    \n",
    "    #Save motif information\n",
    "    dfi_across_window['enhancer_name'] = enhancer_df.name.iloc[0]\n",
    "    dfi_across_window['enhancer_idx'] = enhancer_df.idx.iloc[0]\n",
    "    dfi_across_window['enhancer_start_0based'] = enhancer_df.start.iloc[0]\n",
    "    dfi_across_window['enhancer_end_0based'] = enhancer_df.end.iloc[0]\n",
    "    dfi_across_window.to_csv(f\"tsv/perturbs/binding/enhancer/{enhancer_df['name'].iloc[0]}_motif_info_0based.csv.gz\", \n",
    "                             index = False)"
   ]
  },
  {
   "cell_type": "code",
   "execution_count": null,
   "metadata": {},
   "outputs": [],
   "source": [
    "dfi_across_window"
   ]
  }
 ],
 "metadata": {
  "kernelspec": {
   "display_name": "bpnet",
   "language": "python",
   "name": "bpnet"
  },
  "language_info": {
   "codemirror_mode": {
    "name": "ipython",
    "version": 3
   },
   "file_extension": ".py",
   "mimetype": "text/x-python",
   "name": "python",
   "nbconvert_exporter": "python",
   "pygments_lexer": "ipython3",
   "version": "3.6.7"
  }
 },
 "nbformat": 4,
 "nbformat_minor": 4
}
