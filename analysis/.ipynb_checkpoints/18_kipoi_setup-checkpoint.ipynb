{
 "cells": [
  {
   "cell_type": "code",
   "execution_count": null,
   "metadata": {},
   "outputs": [],
   "source": [
    "# Configurations\n",
    "import warnings;warnings.filterwarnings(\"ignore\")\n",
    "from tensorflow.python.util import deprecation; deprecation._PRINT_DEPRECATION_WARNINGS = False\n",
    "\n",
    "#Modules\n",
    "import os\n",
    "import sys\n",
    "import numpy as np\n",
    "import pandas as pd\n",
    "from tqdm import tqdm\n",
    "import plotnine\n",
    "from plotnine import *\n",
    "import seaborn as sns\n",
    "import pickle\n",
    "from glob import glob\n",
    "from itertools import product, compress\n",
    "from pybedtools import BedTool\n",
    "from keras import backend as K\n",
    "\n",
    "from datetime import datetime\n",
    "\n",
    "from bpnet.utils import read_json, create_tf_session\n",
    "from bpnet.dataspecs import DataSpec\n",
    "from bpnet.datasets import StrandedProfile\n",
    "from bpnet.extractors import StrandedBigWigExtractor\n",
    "from bpnet.BPNet import BPNetSeqModel\n",
    "from bpnet.metrics import eval_profile\n",
    "\n",
    "#Setup\n",
    "os.chdir('/l/Zeitlinger/ZeitlingerLab/Manuscripts/Zelda_and_Nucleosomes/Analysis/analysis/')\n",
    "# create_tf_session('0')\n",
    "%matplotlib inline\n",
    "\n",
    "#Variables\n",
    "prefix = 'ZDTBCG'\n",
    "figure_filepath = f'figures/2_binding_bpnet_training'"
   ]
  },
  {
   "cell_type": "code",
   "execution_count": null,
   "metadata": {},
   "outputs": [],
   "source": []
  },
  {
   "cell_type": "code",
   "execution_count": null,
   "metadata": {},
   "outputs": [],
   "source": []
  },
  {
   "cell_type": "code",
   "execution_count": null,
   "metadata": {},
   "outputs": [],
   "source": []
  },
  {
   "cell_type": "code",
   "execution_count": null,
   "metadata": {},
   "outputs": [],
   "source": []
  },
  {
   "cell_type": "code",
   "execution_count": null,
   "metadata": {},
   "outputs": [],
   "source": []
  },
  {
   "cell_type": "code",
   "execution_count": null,
   "metadata": {},
   "outputs": [],
   "source": []
  }
 ],
 "metadata": {
  "kernelspec": {
   "display_name": "bpnet-gpu",
   "language": "python",
   "name": "bpnet-gpu"
  },
  "language_info": {
   "name": ""
  }
 },
 "nbformat": 4,
 "nbformat_minor": 2
}
