{
 "cells": [
  {
   "cell_type": "markdown",
   "metadata": {},
   "source": [
    "# Introduction\n",
    "\n",
    "The purpose of this .ipynb is to generate motif-pair in-silico perturbations across canonical `ZDTBCH` motifs and their variants. This will allow us to assess whether motif pairs have preferential distances or spacings between them.\n",
    "\n",
    "# Computational setup"
   ]
  },
  {
   "cell_type": "code",
   "execution_count": 1,
   "metadata": {},
   "outputs": [
    {
     "name": "stderr",
     "output_type": "stream",
     "text": [
      "Using TensorFlow backend.\n",
      "2022-04-28 17:05:35,137 [WARNING] git-lfs not installed\n",
      "2022-04-28 17:05:37,421 [INFO] Note: detected 80 virtual cores but NumExpr set to maximum of 64, check \"NUMEXPR_MAX_THREADS\" environment variable.\n",
      "2022-04-28 17:05:37,423 [INFO] Note: NumExpr detected 80 cores but \"NUMEXPR_MAX_THREADS\" not set, so enforcing safe limit of 8.\n",
      "2022-04-28 17:05:37,424 [INFO] NumExpr defaulting to 8 threads.\n"
     ]
    }
   ],
   "source": [
    "import warnings\n",
    "warnings.filterwarnings(\"ignore\")\n",
    "from tensorflow.python.util import deprecation\n",
    "deprecation._PRINT_DEPRECATION_WARNINGS = False\n",
    "\n",
    "#Packages\n",
    "import os\n",
    "import sys\n",
    "import pandas as pd\n",
    "import numpy as np\n",
    "from tqdm import tqdm\n",
    "from pybedtools import BedTool\n",
    "\n",
    "# Settings\n",
    "os.chdir(f'/n/projects/mw2098/analysis/zelda')\n",
    "pd.set_option('display.max_columns', 100)\n",
    "figure_filepath = 'analysis/ZDTBCG/figures/9_collect_insilico_perturbs'\n",
    "\n",
    "# Custom commands\n",
    "sys.path.insert(0, f'/n/projects/mw2098/shared_code/bpnet/scripts')\n",
    "from data_format_functions import myround, myfloor, myceiling\n",
    "\n",
    "# function to return key for any value \n",
    "def get_key(val, my_dict): \n",
    "    for key, value in my_dict.items(): \n",
    "        if val == value: \n",
    "            return key \n",
    "    return \"key doesn't exist\""
   ]
  },
  {
   "cell_type": "code",
   "execution_count": 2,
   "metadata": {},
   "outputs": [],
   "source": [
    "# #Pre-existing variables\n",
    "model_name = 'seq_width1000-lr0.005-lambda100-n_dil_layers9-conv_kernel_size7-tconv_kernel_size7-filters128'\n",
    "model_dir = f'/n/projects/mw2098/analysis/zelda/models/ZDTBCG/{model_name}/'\n",
    "motif_seqs = {\n",
    "    'Zld': 'CAGGTAG',\n",
    "    'Gaf': 'GAGAGAGAGAGAGAGAG',\n",
    "    'Cad': 'TTTTATGGCC',\n",
    "    'Dl': 'GGGAAAACCC',\n",
    "    'Twi': 'AACACATGTT',\n",
    "    'Bcd': 'TTAATCC'\n",
    "}\n",
    "motif_colors = {'Zld': '#38b6f1',\n",
    "                'Dl': '#d9a404',\n",
    "                'Twi': '#ef3f54',\n",
    "                'Bcd': '#1bb04c',\n",
    "                'Cad': '#c4acb4',\n",
    "                'Gaf': '#f47b2f'\n",
    "             }"
   ]
  },
  {
   "cell_type": "code",
   "execution_count": 3,
   "metadata": {},
   "outputs": [
    {
     "name": "stdout",
     "output_type": "stream",
     "text": [
      "mkdir: cannot create directory ‘analysis/ZDTBCG/figures/9_collect_insilico_perturbs/individual_pairs’: File exists\n"
     ]
    }
   ],
   "source": [
    "!mkdir -p {figure_filepath}\n",
    "!mkdir -p analysis/ZDTBCG/tsv/insilico_perturb/\n",
    "!mkdir {figure_filepath}/individual_pairs"
   ]
  },
  {
   "cell_type": "markdown",
   "metadata": {},
   "source": [
    "# Define motif pairs\n",
    "\n",
    "Here, we will look at each homotypic and heterotypic motif pair."
   ]
  },
  {
   "cell_type": "code",
   "execution_count": 4,
   "metadata": {},
   "outputs": [],
   "source": [
    "from itertools import permutations \n",
    "motif_perms = list(permutations(motif_seqs.keys(), 2))\n",
    "motif_perms.extend([('Dl', 'Dl'), ('Zld', 'Zld'), ('Twi', 'Twi'), ('Bcd', 'Bcd'), ('Cad', 'Cad'), ('Gaf', 'Gaf')])"
   ]
  },
  {
   "cell_type": "markdown",
   "metadata": {},
   "source": [
    "# Import BPNet model\n",
    "\n",
    "Load the BPNet model that was trained."
   ]
  },
  {
   "cell_type": "code",
   "execution_count": 5,
   "metadata": {},
   "outputs": [
    {
     "name": "stderr",
     "output_type": "stream",
     "text": [
      "TF-MoDISco is using the TensorFlow backend.\n"
     ]
    }
   ],
   "source": [
    "from bpnet.BPNet import BPNetSeqModel\n",
    "bpn = BPNetSeqModel.from_mdir(model_dir)  # wrap SeqModel to BPNetSeqModel to get `sim_pred` method"
   ]
  },
  {
   "cell_type": "markdown",
   "metadata": {},
   "source": [
    "# Define functions\n",
    "\n",
    "We want to define functions that will allow us to generate simulated, injected versions of motif pairs and format them into pd.dfs that can be plotted."
   ]
  },
  {
   "cell_type": "code",
   "execution_count": 6,
   "metadata": {},
   "outputs": [],
   "source": [
    "from bpnet.simulate import generate_sim\n",
    "\n",
    "#Get results of bpnet.BPNet.sim_pred into a tidy pd.df\n",
    "def sim_pred_to_df(sim_pred_profiles):\n",
    "    dfp_ref = pd.DataFrame()\n",
    "    for k in sim_pred_profiles.keys():\n",
    "        df = pd.DataFrame(sim_pred_profiles[k]).reset_index()\n",
    "        df['task'] = os.path.basename(k)\n",
    "        df.columns = ['position','pos','neg', 'task']\n",
    "        dfp_ref = dfp_ref.append(df)\n",
    "    dfp_ref = dfp_ref.melt(id_vars = ['position','task'], var_name = 'strand', value_name = 'pred')\n",
    "    return dfp_ref\n",
    "\n",
    "#Get results of bpnet.simulate.generate_sim into a tidy pd.df\n",
    "def generate_sim_to_df(generate_sim_profiles):\n",
    "    dfp_alt = pd.DataFrame()\n",
    "    for d in range(len(generate_sim_profiles)):\n",
    "        dfp = sim_pred_to_df(generate_sim_profiles[d][1]['profile'])\n",
    "        dfp['distance'] = generate_sim_profiles[d][0]\n",
    "        dfp_alt = dfp_alt.append(dfp)\n",
    "    return dfp_alt\n",
    "\n",
    "#Get perturbations and convert into tidy.df (dfs = summary, dfp = profiles)\n",
    "def get_sim(motif_comb, motif_seqs, side_distances = np.arange(505, 900), center_coords = [400, 600]):\n",
    "    dfs, profiles = generate_sim(bpn, central_motif=motif_seqs[motif_comb[0]], side_motif=motif_seqs[motif_comb[1]], \n",
    "                       side_distances=side_distances, center_coords=center_coords, contribution=[], correct=True)\n",
    "    dfs.central_motif = motif_comb[0]\n",
    "    dfs.side_motif = motif_comb[1]\n",
    "    \n",
    "    #Get reference profiles\n",
    "    profiles_ref = bpn.sim_pred(motif_seqs[motif_comb[0]], repeat = 64)\n",
    "    dfp_ref = sim_pred_to_df(profiles_ref)\n",
    "    dfp_ref['distance'] = 'Reference'\n",
    "\n",
    "    #Get perturbed profiles\n",
    "    dfp_alt = generate_sim_to_df(profiles)\n",
    "\n",
    "    #Combine\n",
    "    dfp = dfp_ref.append(dfp_alt)\n",
    "\n",
    "    return dfs, dfp"
   ]
  },
  {
   "cell_type": "markdown",
   "metadata": {},
   "source": [
    "# Generate distance-separated motif pair measurements\n",
    "\n",
    "After knocking out the 'side' injected motif, measure the effect on the 'central' motif. Do this for varying distances to investigate the effects of motif pair spacing between each set."
   ]
  },
  {
   "cell_type": "code",
   "execution_count": 7,
   "metadata": {},
   "outputs": [],
   "source": [
    "%%script false --no-raise-error\n",
    "dfs_all = pd.DataFrame()\n",
    "for perm in motif_perms:\n",
    "    dfs, _ = get_sim(motif_seqs = motif_seqs, motif_comb=perm, side_distances = np.arange(505, 900))\n",
    "    dfs_all = dfs_all.append(dfs)\n",
    "dfs_all.to_csv(f'analysis/ZDTBCG/tsv/insilico_perturb/insilico_summaries.tsv.gz', sep = '\\t')"
   ]
  },
  {
   "cell_type": "markdown",
   "metadata": {},
   "source": [
    "Read in the summaries after they are generated and assign motif pair names and information for simultaneous plotting."
   ]
  },
  {
   "cell_type": "code",
   "execution_count": 8,
   "metadata": {},
   "outputs": [
    {
     "data": {
      "text/html": [
       "<div>\n",
       "<style scoped>\n",
       "    .dataframe tbody tr th:only-of-type {\n",
       "        vertical-align: middle;\n",
       "    }\n",
       "\n",
       "    .dataframe tbody tr th {\n",
       "        vertical-align: top;\n",
       "    }\n",
       "\n",
       "    .dataframe thead th {\n",
       "        text-align: right;\n",
       "    }\n",
       "</style>\n",
       "<table border=\"1\" class=\"dataframe\">\n",
       "  <thead>\n",
       "    <tr style=\"text-align: right;\">\n",
       "      <th></th>\n",
       "      <th>Unnamed: 0</th>\n",
       "      <th>profile/simmetric_kl</th>\n",
       "      <th>profile/counts</th>\n",
       "      <th>profile/counts_frac</th>\n",
       "      <th>profile/max</th>\n",
       "      <th>profile/max_frac</th>\n",
       "      <th>profile/counts_max_ref</th>\n",
       "      <th>profile/counts_max_ref_frac</th>\n",
       "      <th>task</th>\n",
       "      <th>central_motif</th>\n",
       "      <th>side_motif</th>\n",
       "      <th>position</th>\n",
       "      <th>distance</th>\n",
       "    </tr>\n",
       "  </thead>\n",
       "  <tbody>\n",
       "    <tr>\n",
       "      <th>0</th>\n",
       "      <td>0</td>\n",
       "      <td>0.023655</td>\n",
       "      <td>144.907623</td>\n",
       "      <td>0.393253</td>\n",
       "      <td>0.516568</td>\n",
       "      <td>0.337716</td>\n",
       "      <td>0.807630</td>\n",
       "      <td>0.264805</td>\n",
       "      <td>Zld</td>\n",
       "      <td>Zld</td>\n",
       "      <td>Gaf</td>\n",
       "      <td>505</td>\n",
       "      <td>5</td>\n",
       "    </tr>\n",
       "    <tr>\n",
       "      <th>1</th>\n",
       "      <td>1</td>\n",
       "      <td>0.007098</td>\n",
       "      <td>55.613613</td>\n",
       "      <td>0.631416</td>\n",
       "      <td>0.169938</td>\n",
       "      <td>0.475241</td>\n",
       "      <td>0.308911</td>\n",
       "      <td>0.440448</td>\n",
       "      <td>Dl</td>\n",
       "      <td>Zld</td>\n",
       "      <td>Gaf</td>\n",
       "      <td>505</td>\n",
       "      <td>5</td>\n",
       "    </tr>\n",
       "    <tr>\n",
       "      <th>2</th>\n",
       "      <td>2</td>\n",
       "      <td>0.019757</td>\n",
       "      <td>91.101067</td>\n",
       "      <td>0.574631</td>\n",
       "      <td>0.409906</td>\n",
       "      <td>0.688328</td>\n",
       "      <td>0.498221</td>\n",
       "      <td>0.432846</td>\n",
       "      <td>Twi</td>\n",
       "      <td>Zld</td>\n",
       "      <td>Gaf</td>\n",
       "      <td>505</td>\n",
       "      <td>5</td>\n",
       "    </tr>\n",
       "    <tr>\n",
       "      <th>3</th>\n",
       "      <td>3</td>\n",
       "      <td>0.016586</td>\n",
       "      <td>135.749771</td>\n",
       "      <td>0.422300</td>\n",
       "      <td>0.479455</td>\n",
       "      <td>0.414430</td>\n",
       "      <td>0.750359</td>\n",
       "      <td>0.338939</td>\n",
       "      <td>Bcd</td>\n",
       "      <td>Zld</td>\n",
       "      <td>Gaf</td>\n",
       "      <td>505</td>\n",
       "      <td>5</td>\n",
       "    </tr>\n",
       "    <tr>\n",
       "      <th>4</th>\n",
       "      <td>4</td>\n",
       "      <td>0.014367</td>\n",
       "      <td>120.477982</td>\n",
       "      <td>0.575408</td>\n",
       "      <td>0.429203</td>\n",
       "      <td>0.477198</td>\n",
       "      <td>0.579262</td>\n",
       "      <td>0.370217</td>\n",
       "      <td>Cad</td>\n",
       "      <td>Zld</td>\n",
       "      <td>Gaf</td>\n",
       "      <td>505</td>\n",
       "      <td>5</td>\n",
       "    </tr>\n",
       "  </tbody>\n",
       "</table>\n",
       "</div>"
      ],
      "text/plain": [
       "   Unnamed: 0  profile/simmetric_kl  profile/counts  profile/counts_frac  \\\n",
       "0           0              0.023655      144.907623             0.393253   \n",
       "1           1              0.007098       55.613613             0.631416   \n",
       "2           2              0.019757       91.101067             0.574631   \n",
       "3           3              0.016586      135.749771             0.422300   \n",
       "4           4              0.014367      120.477982             0.575408   \n",
       "\n",
       "   profile/max  profile/max_frac  profile/counts_max_ref  \\\n",
       "0     0.516568          0.337716                0.807630   \n",
       "1     0.169938          0.475241                0.308911   \n",
       "2     0.409906          0.688328                0.498221   \n",
       "3     0.479455          0.414430                0.750359   \n",
       "4     0.429203          0.477198                0.579262   \n",
       "\n",
       "   profile/counts_max_ref_frac task central_motif side_motif  position  \\\n",
       "0                     0.264805  Zld           Zld        Gaf       505   \n",
       "1                     0.440448   Dl           Zld        Gaf       505   \n",
       "2                     0.432846  Twi           Zld        Gaf       505   \n",
       "3                     0.338939  Bcd           Zld        Gaf       505   \n",
       "4                     0.370217  Cad           Zld        Gaf       505   \n",
       "\n",
       "   distance  \n",
       "0         5  \n",
       "1         5  \n",
       "2         5  \n",
       "3         5  \n",
       "4         5  "
      ]
     },
     "execution_count": 8,
     "metadata": {},
     "output_type": "execute_result"
    }
   ],
   "source": [
    "dfs_all = pd.read_csv(f'analysis/ZDTBCG/tsv/insilico_perturb/insilico_summaries.tsv.gz', sep = '\\t')\n",
    "dfs_all.head(n=5)"
   ]
  },
  {
   "cell_type": "code",
   "execution_count": 9,
   "metadata": {},
   "outputs": [
    {
     "data": {
      "text/html": [
       "<div>\n",
       "<style scoped>\n",
       "    .dataframe tbody tr th:only-of-type {\n",
       "        vertical-align: middle;\n",
       "    }\n",
       "\n",
       "    .dataframe tbody tr th {\n",
       "        vertical-align: top;\n",
       "    }\n",
       "\n",
       "    .dataframe thead th {\n",
       "        text-align: right;\n",
       "    }\n",
       "</style>\n",
       "<table border=\"1\" class=\"dataframe\">\n",
       "  <thead>\n",
       "    <tr style=\"text-align: right;\">\n",
       "      <th></th>\n",
       "      <th>Unnamed: 0</th>\n",
       "      <th>profile/simmetric_kl</th>\n",
       "      <th>profile/counts</th>\n",
       "      <th>profile/counts_frac</th>\n",
       "      <th>profile/max</th>\n",
       "      <th>profile/max_frac</th>\n",
       "      <th>profile/counts_max_ref</th>\n",
       "      <th>profile/counts_max_ref_frac</th>\n",
       "      <th>task</th>\n",
       "      <th>central_motif</th>\n",
       "      <th>side_motif</th>\n",
       "      <th>position</th>\n",
       "      <th>distance</th>\n",
       "      <th>motif_pair</th>\n",
       "      <th>motif_pair_raw</th>\n",
       "      <th>featured_task</th>\n",
       "    </tr>\n",
       "  </thead>\n",
       "  <tbody>\n",
       "    <tr>\n",
       "      <th>0</th>\n",
       "      <td>0</td>\n",
       "      <td>0.023655</td>\n",
       "      <td>144.907623</td>\n",
       "      <td>0.393253</td>\n",
       "      <td>0.516568</td>\n",
       "      <td>0.337716</td>\n",
       "      <td>0.807630</td>\n",
       "      <td>0.264805</td>\n",
       "      <td>Zld</td>\n",
       "      <td>Zld</td>\n",
       "      <td>Gaf</td>\n",
       "      <td>505</td>\n",
       "      <td>5</td>\n",
       "      <td>Gaf_Zld</td>\n",
       "      <td>Zld_Gaf</td>\n",
       "      <td>True</td>\n",
       "    </tr>\n",
       "    <tr>\n",
       "      <th>1</th>\n",
       "      <td>1</td>\n",
       "      <td>0.007098</td>\n",
       "      <td>55.613613</td>\n",
       "      <td>0.631416</td>\n",
       "      <td>0.169938</td>\n",
       "      <td>0.475241</td>\n",
       "      <td>0.308911</td>\n",
       "      <td>0.440448</td>\n",
       "      <td>Dl</td>\n",
       "      <td>Zld</td>\n",
       "      <td>Gaf</td>\n",
       "      <td>505</td>\n",
       "      <td>5</td>\n",
       "      <td>Gaf_Zld</td>\n",
       "      <td>Zld_Gaf</td>\n",
       "      <td>False</td>\n",
       "    </tr>\n",
       "    <tr>\n",
       "      <th>2</th>\n",
       "      <td>2</td>\n",
       "      <td>0.019757</td>\n",
       "      <td>91.101067</td>\n",
       "      <td>0.574631</td>\n",
       "      <td>0.409906</td>\n",
       "      <td>0.688328</td>\n",
       "      <td>0.498221</td>\n",
       "      <td>0.432846</td>\n",
       "      <td>Twi</td>\n",
       "      <td>Zld</td>\n",
       "      <td>Gaf</td>\n",
       "      <td>505</td>\n",
       "      <td>5</td>\n",
       "      <td>Gaf_Zld</td>\n",
       "      <td>Zld_Gaf</td>\n",
       "      <td>False</td>\n",
       "    </tr>\n",
       "    <tr>\n",
       "      <th>3</th>\n",
       "      <td>3</td>\n",
       "      <td>0.016586</td>\n",
       "      <td>135.749771</td>\n",
       "      <td>0.422300</td>\n",
       "      <td>0.479455</td>\n",
       "      <td>0.414430</td>\n",
       "      <td>0.750359</td>\n",
       "      <td>0.338939</td>\n",
       "      <td>Bcd</td>\n",
       "      <td>Zld</td>\n",
       "      <td>Gaf</td>\n",
       "      <td>505</td>\n",
       "      <td>5</td>\n",
       "      <td>Gaf_Zld</td>\n",
       "      <td>Zld_Gaf</td>\n",
       "      <td>False</td>\n",
       "    </tr>\n",
       "  </tbody>\n",
       "</table>\n",
       "</div>"
      ],
      "text/plain": [
       "   Unnamed: 0  profile/simmetric_kl  profile/counts  profile/counts_frac  \\\n",
       "0           0              0.023655      144.907623             0.393253   \n",
       "1           1              0.007098       55.613613             0.631416   \n",
       "2           2              0.019757       91.101067             0.574631   \n",
       "3           3              0.016586      135.749771             0.422300   \n",
       "\n",
       "   profile/max  profile/max_frac  profile/counts_max_ref  \\\n",
       "0     0.516568          0.337716                0.807630   \n",
       "1     0.169938          0.475241                0.308911   \n",
       "2     0.409906          0.688328                0.498221   \n",
       "3     0.479455          0.414430                0.750359   \n",
       "\n",
       "   profile/counts_max_ref_frac task central_motif side_motif  position  \\\n",
       "0                     0.264805  Zld           Zld        Gaf       505   \n",
       "1                     0.440448   Dl           Zld        Gaf       505   \n",
       "2                     0.432846  Twi           Zld        Gaf       505   \n",
       "3                     0.338939  Bcd           Zld        Gaf       505   \n",
       "\n",
       "   distance motif_pair motif_pair_raw  featured_task  \n",
       "0         5    Gaf_Zld        Zld_Gaf           True  \n",
       "1         5    Gaf_Zld        Zld_Gaf          False  \n",
       "2         5    Gaf_Zld        Zld_Gaf          False  \n",
       "3         5    Gaf_Zld        Zld_Gaf          False  "
      ]
     },
     "execution_count": 9,
     "metadata": {},
     "output_type": "execute_result"
    }
   ],
   "source": [
    "#Assign motif_pair names for faceting\n",
    "motif_pair = []\n",
    "for i in range(dfs_all.shape[0]):\n",
    "    if dfs_all.central_motif.iloc[i] > dfs_all.side_motif.iloc[i]:\n",
    "        val = dfs_all.side_motif.iloc[i] + '_' + dfs_all.central_motif.iloc[i]\n",
    "        motif_pair.append(val)\n",
    "    else:\n",
    "        val = dfs_all.central_motif.iloc[i] + '_' + dfs_all.side_motif.iloc[i]\n",
    "        motif_pair.append(val)\n",
    "dfs_all['motif_pair'] = motif_pair\n",
    "dfs_all['motif_pair_raw'] = dfs_all.central_motif + '_' + dfs_all.side_motif\n",
    "\n",
    "#Mark the BPNet tasks as 'featured' for plotting\n",
    "featured_idx = [row.task in row.central_motif for idx,row in dfs_all.iterrows()]\n",
    "dfs_all['featured_task'] = featured_idx\n",
    "\n",
    "#Make categorigal variable column\n",
    "dfs_all['task'] = pd.Categorical(dfs_all['task'], categories = list(motif_colors.keys()), ordered = False)\n",
    "dfs_all.head(n=4)"
   ]
  },
  {
   "cell_type": "markdown",
   "metadata": {},
   "source": [
    "Plot the motif pair summaries at their respective distances. "
   ]
  },
  {
   "cell_type": "code",
   "execution_count": 10,
   "metadata": {},
   "outputs": [
    {
     "data": {
      "text/plain": [
       "array(['Gaf_Zld', 'Cad_Zld', 'Dl_Zld', 'Twi_Zld', 'Bcd_Zld', 'Cad_Gaf',\n",
       "       'Dl_Gaf', 'Gaf_Twi', 'Bcd_Gaf', 'Cad_Dl', 'Cad_Twi', 'Bcd_Cad',\n",
       "       'Dl_Twi', 'Bcd_Dl', 'Bcd_Twi', 'Dl_Dl', 'Zld_Zld', 'Twi_Twi',\n",
       "       'Bcd_Bcd', 'Cad_Cad', 'Gaf_Gaf'], dtype=object)"
      ]
     },
     "execution_count": 10,
     "metadata": {},
     "output_type": "execute_result"
    }
   ],
   "source": [
    "dfs_all.motif_pair.unique()"
   ]
  },
  {
   "cell_type": "code",
   "execution_count": null,
   "metadata": {},
   "outputs": [],
   "source": []
  },
  {
   "cell_type": "code",
   "execution_count": 11,
   "metadata": {},
   "outputs": [
    {
     "name": "stderr",
     "output_type": "stream",
     "text": [
      "100%|██████████| 21/21 [00:33<00:00,  1.61s/it]\n"
     ]
    }
   ],
   "source": [
    "import plotnine\n",
    "from plotnine import *\n",
    "plotnine.options.figure_size = (8, 2)\n",
    "\n",
    "for pair in tqdm(dfs_all.motif_pair.unique()):\n",
    "    df = dfs_all[dfs_all.motif_pair==pair]\n",
    "    df['profile/counts_max_ref_log2'] = np.log2(df['profile/counts_max_ref_frac'])\n",
    "    df['profile/counts_log2'] = np.log2(df['profile/counts_frac'])\n",
    "    \n",
    "#     gmax = (ggplot(data = df, mapping = aes(x='distance', y='profile/counts_max_ref_log2')) + \n",
    "#      geom_line(aes(color = 'task', alpha = 'featured_task'))+ #, linetype = 'featured_task')) + \n",
    "#      facet_wrap('~motif_pair_raw', nrow = 1) +\n",
    "#      geom_hline(yintercept=0, alpha=0.2) + \n",
    "#      scale_x_continuous(breaks = range(0,200,20), name = 'Center-to-center distance (bp)')+\n",
    "#      scale_y_continuous(name = 'Max. log2(FC) of preds.')+\n",
    "#      scale_color_manual(values = ['#357C42','#4b3046','#40e0d0'], \n",
    "#                         name = \"Task\") + \n",
    "#      scale_alpha_manual(values = [.4,1], name = \"Main task\") +\n",
    "# #      scale_linetype_manual(values = ['dotted','solid'], name = \"Main task\") +\n",
    "#      theme_minimal())\n",
    "#     gmax.save(f'figures/4_in_silico/max/insilico_perturb_max_{pair}.pdf', height = 2, width = 8)\n",
    "    \n",
    "    gsum = (ggplot(data = df, mapping = aes(x='distance', y='profile/counts_log2')) + \n",
    "     geom_line(aes(color = 'task', alpha = 'featured_task'))+ #, linetype = 'featured_task')) + \n",
    "     facet_wrap('~motif_pair_raw', nrow = 1) +\n",
    "     geom_hline(yintercept=0, alpha=0.2) + \n",
    "     scale_x_continuous(breaks = range(0,400,50), name = 'Center-to-center distance (bp)')+\n",
    "     scale_y_continuous(name = 'Sum log2(fc) of preds.')+\n",
    "     scale_color_manual(values = list(motif_colors.values()), \n",
    "                        name = \"Task\") + \n",
    "     scale_alpha_manual(values = [.4,1], name = \"Main task\") +\n",
    "#      scale_linetype_manual(values = ['dotted','solid'], name = \"Main task\") +\n",
    "     theme_minimal())\n",
    "    gsum.save(f'{figure_filepath}/individual_pairs/insilico_perturb_sum_{pair}.png', height = 2, width = 8)\n",
    "    gsum.save(f'{figure_filepath}/individual_pairs/insilico_perturb_sum_{pair}.pdf', height = 2, width = 8)\n",
    "    gsum"
   ]
  },
  {
   "cell_type": "code",
   "execution_count": null,
   "metadata": {},
   "outputs": [],
   "source": []
  },
  {
   "cell_type": "code",
   "execution_count": null,
   "metadata": {},
   "outputs": [],
   "source": []
  },
  {
   "cell_type": "code",
   "execution_count": null,
   "metadata": {},
   "outputs": [],
   "source": []
  },
  {
   "cell_type": "code",
   "execution_count": null,
   "metadata": {},
   "outputs": [],
   "source": []
  }
 ],
 "metadata": {
  "kernelspec": {
   "display_name": "bpnet-gpu",
   "language": "python",
   "name": "bpnet-gpu"
  },
  "language_info": {
   "codemirror_mode": {
    "name": "ipython",
    "version": 3
   },
   "file_extension": ".py",
   "mimetype": "text/x-python",
   "name": "python",
   "nbconvert_exporter": "python",
   "pygments_lexer": "ipython3",
   "version": "3.6.13"
  }
 },
 "nbformat": 4,
 "nbformat_minor": 4
}
