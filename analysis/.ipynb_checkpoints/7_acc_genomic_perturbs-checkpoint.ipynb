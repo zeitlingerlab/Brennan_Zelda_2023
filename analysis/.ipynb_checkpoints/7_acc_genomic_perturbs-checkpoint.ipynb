{
 "cells": [
  {
   "cell_type": "markdown",
   "metadata": {},
   "source": [
    "# Introduction\n",
    "\n",
    "The purpose of this .ipynb is to generate combinatorial perturbations of motifs based on the ChromBPNet model across 4 developmental timepoints from curated motifs. We will generate perturbations the entire window (1000bp) range. Combinatorial perturbations can be defined as perturbations of motifs in distinct combinations across each distinct enhancer/peak given. We will perturb up to 2 motifs at a time, in any combination. From this, we will be able to extract pairwise motif-motif synergy and single motif effects on different modes of binding. \n",
    "\n",
    "We will then conduct perturbations on Zelda motifs in all combinations, allowing for later analysis of Zelda-only island combinations compared to ZldRNAi mutants.\n",
    "\n",
    "After this, we will conduct perturbations based on enhancer regions, but instead of returning the summary values, we will return the profiles instead for plotting. \n",
    "\n",
    "# Computational setup"
   ]
  },
  {
   "cell_type": "code",
   "execution_count": 1,
   "metadata": {},
   "outputs": [],
   "source": [
    "#Modules\n",
    "import os\n",
    "import glob\n",
    "import json\n",
    "import sys\n",
    "from tqdm import tqdm\n",
    "import pandas as pd\n",
    "import numpy as np\n",
    "import plotnine\n",
    "from plotnine import *\n",
    "from scipy.stats import pearsonr, spearmanr, multinomial, describe\n",
    "\n",
    "%matplotlib inline\n",
    "%load_ext autoreload\n",
    "%autoreload 2\n",
    "\n",
    "#Custom functions\n",
    "sys.path.insert(0, f'scripts/py')\n",
    "from chrombpnet_perturb_functions import perturb_single_enhancer\n",
    "from motif_functions import resize_coordinates\n",
    "\n",
    "os.chdir('/l/Zeitlinger/ZeitlingerLab/Manuscripts/Zelda_and_Nucleosomes/Analysis/analysis/')\n",
    "\n",
    "#Independent Variables\n",
    "input_seqlen=2114\n",
    "output_seqlen=1000\n",
    "fasta_file = f'../data/indexes/bowtie2/dm6.fa'\n",
    "model_dir = 'bpnet/models/optimized_model/fold1'\n",
    "modisco_dir = f'bpnet/modisco/fold1/'\n",
    "curated_motifs_0based = f'bed/mapped_motifs/all_instances_curated_0based.bed'\n",
    "curated_regions_0based = f'bed/mapped_motifs/all_grouped_regions_0based.bed'\n",
    "overlapping_motifs_1based = f'tsv/mapped_motifs/atac_overlapping_instances_curated_1based.tsv.gz' #These contain additional metadata\n",
    "enhancer_regions_file = f'bed/enhancers/enhancers_for_models.bed'\n",
    "accessibility_peak_file='../data/narrowpeak/atac_orer_all_peaks_no_promoters.narrowpeak'\n",
    "timepoints = ['1to15','15to2','2to25','25to3']\n",
    "\n",
    "figure_filepath = 'figures/7_acc_genomic_perturbs'\n",
    "genomic_perturb_output_dir = f'tsv/perturbs/accessibility/genomic'\n",
    "enhancer_perturb_output_dir = f'tsv/perturbs/accessibility/enhancer'"
   ]
  },
  {
   "cell_type": "code",
   "execution_count": 2,
   "metadata": {},
   "outputs": [],
   "source": [
    "!mkdir -p {figure_filepath}\n",
    "!mkdir -p {genomic_perturb_output_dir}\n",
    "!mkdir -p {enhancer_perturb_output_dir}"
   ]
  },
  {
   "cell_type": "markdown",
   "metadata": {},
   "source": [
    "## Helper functions\n",
    "\n",
    "Write an SGE-compatible script for genomic perturbations."
   ]
  },
  {
   "cell_type": "code",
   "execution_count": 3,
   "metadata": {},
   "outputs": [],
   "source": [
    "def write_genomic_perturb_script(motifs_df_path, motif_groups_df_path, \n",
    "                                 model_file, bias_file, fasta_file,\n",
    "                                 output_prefix, output_cmd_path, \n",
    "                                 region_index_column = 'region_index', \n",
    "                                 motif_window_start_column = 'motif_window_start',\n",
    "                                 motif_window_end_column = 'motif_window_end',\n",
    "                                 motif_name_column = 'pattern_name',\n",
    "                                 motif_chrom_column = 'chrom',\n",
    "                                 summary_window = 150, comb_max = 2, comb_min = 1, threads = 24, trials = 16, \n",
    "                                 input_seqlen = 2114, output_seqlen = 1000):\n",
    "    \n",
    "    assert comb_min>=1\n",
    "    \n",
    "    sge_header = ['#$ -cwd', '#$ -S /bin/bash', '#$ -N genomic_perturbs', '#$ -pe smp 50','#$ -l h_rt=24:00:00', '#$ -V']\n",
    "    ld_path = ['LD_LIBRARY_PATH=/usr/lib64:/usr/local/cuda-11.5/lib64:/usr/local/cuda-11.5/extras/CUPTI/lib64:/lib/nccl/cuda-11.5:/usr/local/cuda-11.0/lib64:/usr/local/cuda-11.0/extras/CUPTI/lib64:/lib/nccl/cuda-11.0:/n/apps/CentOS7/install/rbenv-0.3.0/rbenv/libexec:/n/apps/CentOS7/lib64::/n/apps/CentOS7/install/guppy-2.3.1/lib:/n/apps/CentOS7/lib:/n/apps/CentOS7/proteomics/lib']\n",
    "\n",
    "    cmd = [\n",
    "        f'~/anaconda3/envs/chrombpnet/bin/python scripts/py/chrombpnet_generate_perturbations.py \\\\',\n",
    "        f'--motifs_df_path {motifs_df_path} \\\\',\n",
    "        f'--motif_groups_df_path {motif_groups_df_path} \\\\',\n",
    "        f'--model_file {model_file} \\\\',\n",
    "        f'--bias_file {bias_file} \\\\',\n",
    "        f'--output_prefix {output_prefix} \\\\',\n",
    "        f'--region_index_column {region_index_column} \\\\',\n",
    "        f'--motif_window_start_column {motif_window_start_column} \\\\',\n",
    "        f'--motif_window_end_column {motif_window_end_column} \\\\',\n",
    "        f'--motif_name_column {motif_name_column} \\\\',\n",
    "        f'--motif_chrom_column {motif_chrom_column} \\\\',\n",
    "        f'--fasta_file {fasta_file} \\\\',\n",
    "        f'--input_seqlen {input_seqlen} --output_seqlen {output_seqlen} \\\\',\n",
    "        f'--comb_max {comb_max} --comb_min {comb_min} \\\\',\n",
    "        f'--nodes {threads} --trials {trials} \\\\'\n",
    "    ]\n",
    "    if type(summary_window)==int:\n",
    "        last_param = [f'--summary_window {summary_window} ']\n",
    "        cmd = cmd + (list(last_param))      \n",
    "    else:\n",
    "        last_param = [f'--{summary_window} ']\n",
    "        cmd = cmd + (list(last_param))\n",
    "    cmds = sge_header + ld_path + cmd\n",
    "    \n",
    "    #Write script\n",
    "    output_hit_mapping_script = open(output_cmd_path, \"w\")\n",
    "    for i in cmds:\n",
    "        output_hit_mapping_script.write(i + \"\\n\")\n",
    "    output_hit_mapping_script.close()\n",
    "    return None"
   ]
  },
  {
   "cell_type": "markdown",
   "metadata": {},
   "source": [
    "# Process motifs to match genomic perturbation criteria\n",
    "\n",
    "Here, we will be using motifs originating from TF curations. In order to run genomic perturbations we will need to:\n",
    "\n",
    "1. filter motifs to only regions that are overlapping ATAC-peaks at any timepoint\n",
    "2. assign appropriate column information in 0-based format"
   ]
  },
  {
   "cell_type": "code",
   "execution_count": 4,
   "metadata": {},
   "outputs": [],
   "source": [
    "all_motifs_df = pd.read_csv(curated_motifs_0based, sep = '\\t', \n",
    "                            names = ['chrom', 'start', 'end', 'name', 'score', 'strand'])\n",
    "all_motif_regions_df = pd.read_csv(curated_regions_0based, sep = '\\t', \n",
    "                                   names = ['region_chrom', 'region_0based_start', 'region_0based_end', 'region_id', 'region_score', 'region_strand'])\n",
    "atac_motifs_1based_df = pd.read_csv(overlapping_motifs_1based, sep = '\\t')"
   ]
  },
  {
   "cell_type": "code",
   "execution_count": 5,
   "metadata": {},
   "outputs": [
    {
     "data": {
      "text/plain": [
       "Twi    23825\n",
       "Bcd    17344\n",
       "Cad    13491\n",
       "GAF     7429\n",
       "Zld     5264\n",
       "Dl      1965\n",
       "Name: pattern_name, dtype: int64"
      ]
     },
     "execution_count": 5,
     "metadata": {},
     "output_type": "execute_result"
    }
   ],
   "source": [
    "all_motifs_df[['pattern_name','motif_id', 'region_id']] = all_motifs_df.name.str.split('_', expand=True)\n",
    "all_motifs_df['motif_id'] = all_motifs_df.motif_id.astype(int)\n",
    "all_motifs_df['region_id'] = all_motifs_df.region_id.astype(int)\n",
    "all_motifs_df.pattern_name.value_counts()"
   ]
  },
  {
   "cell_type": "markdown",
   "metadata": {},
   "source": [
    "Filter TF motifs based on their motif IDs and then collect proper column labels in 0-based coordinates."
   ]
  },
  {
   "cell_type": "code",
   "execution_count": 6,
   "metadata": {},
   "outputs": [
    {
     "data": {
      "text/plain": [
       "Twi    8771\n",
       "Bcd    5805\n",
       "Cad    5016\n",
       "Zld    2608\n",
       "GAF    2556\n",
       "Dl      800\n",
       "Name: pattern_name, dtype: int64"
      ]
     },
     "execution_count": 6,
     "metadata": {},
     "output_type": "execute_result"
    }
   ],
   "source": [
    "atac_motifs_0based_df = all_motifs_df[all_motifs_df['motif_id'].isin(atac_motifs_1based_df.motif_id.values)]\n",
    "atac_motifs_0based_df.pattern_name.value_counts()"
   ]
  },
  {
   "cell_type": "code",
   "execution_count": 7,
   "metadata": {},
   "outputs": [
    {
     "data": {
      "text/plain": [
       "True"
      ]
     },
     "execution_count": 7,
     "metadata": {},
     "output_type": "execute_result"
    }
   ],
   "source": [
    "atac_motifs_0based_df.shape[0]==atac_motifs_1based_df.shape[0]"
   ]
  },
  {
   "cell_type": "markdown",
   "metadata": {},
   "source": [
    "Add appropriate column annotations and save."
   ]
  },
  {
   "cell_type": "code",
   "execution_count": 8,
   "metadata": {},
   "outputs": [
    {
     "data": {
      "text/plain": [
       "(25556, 16)"
      ]
     },
     "execution_count": 8,
     "metadata": {},
     "output_type": "execute_result"
    }
   ],
   "source": [
    "motifs_df = atac_motifs_0based_df.merge(all_motif_regions_df, on='region_id', how='left')\n",
    "motifs_df['motif_window_start'] = motifs_df.start - motifs_df.region_0based_start\n",
    "motifs_df['motif_window_end'] = motifs_df.end - motifs_df.region_0based_start\n",
    "motifs_df.shape"
   ]
  },
  {
   "cell_type": "code",
   "execution_count": 9,
   "metadata": {},
   "outputs": [
    {
     "data": {
      "text/html": [
       "<div>\n",
       "<style scoped>\n",
       "    .dataframe tbody tr th:only-of-type {\n",
       "        vertical-align: middle;\n",
       "    }\n",
       "\n",
       "    .dataframe tbody tr th {\n",
       "        vertical-align: top;\n",
       "    }\n",
       "\n",
       "    .dataframe thead th {\n",
       "        text-align: right;\n",
       "    }\n",
       "</style>\n",
       "<table border=\"1\" class=\"dataframe\">\n",
       "  <thead>\n",
       "    <tr style=\"text-align: right;\">\n",
       "      <th></th>\n",
       "      <th>chrom</th>\n",
       "      <th>start</th>\n",
       "      <th>end</th>\n",
       "      <th>name</th>\n",
       "      <th>score</th>\n",
       "      <th>strand</th>\n",
       "      <th>pattern_name</th>\n",
       "      <th>motif_id</th>\n",
       "      <th>region_id</th>\n",
       "      <th>region_chrom</th>\n",
       "      <th>region_0based_start</th>\n",
       "      <th>region_0based_end</th>\n",
       "      <th>region_score</th>\n",
       "      <th>region_strand</th>\n",
       "      <th>motif_window_start</th>\n",
       "      <th>motif_window_end</th>\n",
       "    </tr>\n",
       "  </thead>\n",
       "  <tbody>\n",
       "    <tr>\n",
       "      <th>0</th>\n",
       "      <td>chr2L</td>\n",
       "      <td>5568</td>\n",
       "      <td>5587</td>\n",
       "      <td>GAF_33674_0</td>\n",
       "      <td>0</td>\n",
       "      <td>+</td>\n",
       "      <td>GAF</td>\n",
       "      <td>33674</td>\n",
       "      <td>0</td>\n",
       "      <td>chr2L</td>\n",
       "      <td>5077</td>\n",
       "      <td>6077</td>\n",
       "      <td>0</td>\n",
       "      <td>.</td>\n",
       "      <td>491</td>\n",
       "      <td>510</td>\n",
       "    </tr>\n",
       "    <tr>\n",
       "      <th>1</th>\n",
       "      <td>chr2L</td>\n",
       "      <td>5817</td>\n",
       "      <td>5836</td>\n",
       "      <td>GAF_33684_1</td>\n",
       "      <td>0</td>\n",
       "      <td>-</td>\n",
       "      <td>GAF</td>\n",
       "      <td>33684</td>\n",
       "      <td>1</td>\n",
       "      <td>chr2L</td>\n",
       "      <td>5365</td>\n",
       "      <td>6365</td>\n",
       "      <td>0</td>\n",
       "      <td>.</td>\n",
       "      <td>452</td>\n",
       "      <td>471</td>\n",
       "    </tr>\n",
       "    <tr>\n",
       "      <th>2</th>\n",
       "      <td>chr2L</td>\n",
       "      <td>5833</td>\n",
       "      <td>5843</td>\n",
       "      <td>Cad_19524_1</td>\n",
       "      <td>0</td>\n",
       "      <td>+</td>\n",
       "      <td>Cad</td>\n",
       "      <td>19524</td>\n",
       "      <td>1</td>\n",
       "      <td>chr2L</td>\n",
       "      <td>5365</td>\n",
       "      <td>6365</td>\n",
       "      <td>0</td>\n",
       "      <td>.</td>\n",
       "      <td>468</td>\n",
       "      <td>478</td>\n",
       "    </tr>\n",
       "    <tr>\n",
       "      <th>3</th>\n",
       "      <td>chr2L</td>\n",
       "      <td>5869</td>\n",
       "      <td>5888</td>\n",
       "      <td>GAF_33686_1</td>\n",
       "      <td>0</td>\n",
       "      <td>+</td>\n",
       "      <td>GAF</td>\n",
       "      <td>33686</td>\n",
       "      <td>1</td>\n",
       "      <td>chr2L</td>\n",
       "      <td>5365</td>\n",
       "      <td>6365</td>\n",
       "      <td>0</td>\n",
       "      <td>.</td>\n",
       "      <td>504</td>\n",
       "      <td>523</td>\n",
       "    </tr>\n",
       "    <tr>\n",
       "      <th>4</th>\n",
       "      <td>chr2L</td>\n",
       "      <td>5895</td>\n",
       "      <td>5914</td>\n",
       "      <td>GAF_33688_1</td>\n",
       "      <td>0</td>\n",
       "      <td>-</td>\n",
       "      <td>GAF</td>\n",
       "      <td>33688</td>\n",
       "      <td>1</td>\n",
       "      <td>chr2L</td>\n",
       "      <td>5365</td>\n",
       "      <td>6365</td>\n",
       "      <td>0</td>\n",
       "      <td>.</td>\n",
       "      <td>530</td>\n",
       "      <td>549</td>\n",
       "    </tr>\n",
       "  </tbody>\n",
       "</table>\n",
       "</div>"
      ],
      "text/plain": [
       "   chrom  start   end         name  score strand pattern_name  motif_id  \\\n",
       "0  chr2L   5568  5587  GAF_33674_0      0      +          GAF     33674   \n",
       "1  chr2L   5817  5836  GAF_33684_1      0      -          GAF     33684   \n",
       "2  chr2L   5833  5843  Cad_19524_1      0      +          Cad     19524   \n",
       "3  chr2L   5869  5888  GAF_33686_1      0      +          GAF     33686   \n",
       "4  chr2L   5895  5914  GAF_33688_1      0      -          GAF     33688   \n",
       "\n",
       "   region_id region_chrom  region_0based_start  region_0based_end  \\\n",
       "0          0        chr2L                 5077               6077   \n",
       "1          1        chr2L                 5365               6365   \n",
       "2          1        chr2L                 5365               6365   \n",
       "3          1        chr2L                 5365               6365   \n",
       "4          1        chr2L                 5365               6365   \n",
       "\n",
       "   region_score region_strand  motif_window_start  motif_window_end  \n",
       "0             0             .                 491               510  \n",
       "1             0             .                 452               471  \n",
       "2             0             .                 468               478  \n",
       "3             0             .                 504               523  \n",
       "4             0             .                 530               549  "
      ]
     },
     "execution_count": 9,
     "metadata": {},
     "output_type": "execute_result"
    }
   ],
   "source": [
    "motifs_df.head()"
   ]
  },
  {
   "cell_type": "markdown",
   "metadata": {},
   "source": [
    "Save this as a .tsv.gz file."
   ]
  },
  {
   "cell_type": "code",
   "execution_count": 10,
   "metadata": {},
   "outputs": [],
   "source": [
    "motifs_df.to_csv('tsv/perturbs/accessibility/genomic/atac_overlapping_motifs_0based.tsv.gz', sep = '\\t', index = False)"
   ]
  },
  {
   "cell_type": "code",
   "execution_count": 11,
   "metadata": {},
   "outputs": [],
   "source": [
    "all_motif_regions_df.columns = ['chrom', 'start', 'end', 'name', 'score', 'strand']\n",
    "all_motif_regions_df.to_csv('tsv/perturbs/accessibility/genomic/all_grouped_regions_0based.tsv.gz', sep = '\\t', index = False)"
   ]
  },
  {
   "cell_type": "markdown",
   "metadata": {},
   "source": [
    "## Save Zld motifs in separate .tsv.gz\n",
    "\n",
    "We want to also assess Zld mutation effects with Zld RNAi experiments. To analyze this, we need to isolate all Zld motifs."
   ]
  },
  {
   "cell_type": "code",
   "execution_count": 12,
   "metadata": {},
   "outputs": [
    {
     "data": {
      "text/plain": [
       "(2608, 16)"
      ]
     },
     "execution_count": 12,
     "metadata": {},
     "output_type": "execute_result"
    }
   ],
   "source": [
    "zld_df = motifs_df[motifs_df.pattern_name=='Zld']\n",
    "zld_df.shape"
   ]
  },
  {
   "cell_type": "code",
   "execution_count": 13,
   "metadata": {},
   "outputs": [
    {
     "data": {
      "text/plain": [
       "1    1753\n",
       "2     341\n",
       "3      51\n",
       "4       5\n",
       "Name: region_id, dtype: int64"
      ]
     },
     "execution_count": 13,
     "metadata": {},
     "output_type": "execute_result"
    }
   ],
   "source": [
    "zld_df.region_id.value_counts().value_counts()"
   ]
  },
  {
   "cell_type": "code",
   "execution_count": 14,
   "metadata": {},
   "outputs": [],
   "source": [
    "zld_df.to_csv('tsv/perturbs/accessibility/genomic/atac_overlapping_zld_0based.tsv.gz', sep = '\\t', index = False)"
   ]
  },
  {
   "cell_type": "markdown",
   "metadata": {},
   "source": [
    "# Run genomic perturbations\n",
    "\n",
    "Run genomic perturbations for all motifs overlapping with ATAC-seq."
   ]
  },
  {
   "cell_type": "code",
   "execution_count": 15,
   "metadata": {},
   "outputs": [],
   "source": [
    "base_dir = os.getcwd()\n",
    "cmds = ['#!bin/bash', f'cd {base_dir}']\n",
    "for t in timepoints:\n",
    "    write_genomic_perturb_script(motifs_df_path = 'tsv/perturbs/accessibility/genomic/atac_overlapping_motifs_0based.tsv.gz', \n",
    "                                 motif_groups_df_path = 'tsv/perturbs/accessibility/genomic/all_grouped_regions_0based.tsv.gz', \n",
    "                                 model_file = f'chrombpnet/models/model_fold1_{t}.h5',\n",
    "                                 bias_file = f'chrombpnet/models/model_fold1_{t}.adjusted_bias_model.h5',\n",
    "                                 fasta_file = fasta_file,\n",
    "                                 region_index_column = 'region_id', \n",
    "                                 motif_name_column = 'pattern_name',\n",
    "                                 output_prefix = f'tsv/perturbs/accessibility/genomic/genomic_perturbs_atac_overlapping_motifs_1000bp_{t}', \n",
    "                                 output_cmd_path = f'tmp/chrombpnet_generate_genomic_perturbs_{t}_1000bp.sge',\n",
    "                                 summary_window = 'use_whole_window')  \n",
    "    timepoint_cmds = [f'qsub tmp/chrombpnet_generate_genomic_perturbs_{t}_1000bp.sge']\n",
    "    cmds = cmds + timepoint_cmds\n",
    "    \n",
    "output_hit_mapping_script = open('tmp/chrombpnet_generate_genomic_perturbs.sh', \"w\")\n",
    "for i in cmds:\n",
    "    output_hit_mapping_script.write(i + \"\\n\")\n",
    "output_hit_mapping_script.close()"
   ]
  },
  {
   "cell_type": "code",
   "execution_count": 16,
   "metadata": {},
   "outputs": [],
   "source": [
    "%%script false --no-raise-error\n",
    "!bash tmp/chrombpnet_generate_genomic_perturbs.sh"
   ]
  },
  {
   "cell_type": "markdown",
   "metadata": {},
   "source": [
    "## Run genomic perturbations for Zld-only motifs"
   ]
  },
  {
   "cell_type": "code",
   "execution_count": 17,
   "metadata": {},
   "outputs": [],
   "source": [
    "base_dir = os.getcwd()\n",
    "cmds = ['#!bin/bash', f'cd {base_dir}']\n",
    "for t in timepoints:\n",
    "    write_genomic_perturb_script(motifs_df_path = 'tsv/perturbs/accessibility/genomic/atac_overlapping_zld_0based.tsv.gz', \n",
    "                                 motif_groups_df_path = 'tsv/perturbs/accessibility/genomic/all_grouped_regions_0based.tsv.gz', \n",
    "                                 model_file = f'chrombpnet/models/model_fold1_{t}.h5',\n",
    "                                 bias_file = f'chrombpnet/models/model_fold1_{t}.adjusted_bias_model.h5',\n",
    "                                 fasta_file = fasta_file,\n",
    "                                 region_index_column = 'region_id', \n",
    "                                 motif_name_column = 'pattern_name',\n",
    "                                 output_prefix = f'tsv/perturbs/accessibility/genomic/genomic_perturbs_atac_overlapping_zld_1000bp_{t}', \n",
    "                                 output_cmd_path = f'tmp/chrombpnet_generate_genomic_perturbs_{t}_zld_only_1000bp.sge',\n",
    "                                 summary_window = 'use_whole_window',\n",
    "                                 comb_max = 4)  \n",
    "    timepoint_cmds = [f'qsub tmp/chrombpnet_generate_genomic_perturbs_{t}_zld_only_1000bp.sge']\n",
    "    cmds = cmds + timepoint_cmds\n",
    "    \n",
    "output_hit_mapping_script = open('tmp/chrombpnet_generate_genomic_perturbs_zld_only.sh', \"w\")\n",
    "for i in cmds:\n",
    "    output_hit_mapping_script.write(i + \"\\n\")\n",
    "output_hit_mapping_script.close()"
   ]
  },
  {
   "cell_type": "code",
   "execution_count": 18,
   "metadata": {},
   "outputs": [],
   "source": [
    "%%script false --no-raise-error\n",
    "!bash tmp/chrombpnet_generate_genomic_perturbs_zld_only.sh"
   ]
  },
  {
   "cell_type": "markdown",
   "metadata": {},
   "source": [
    "# Perturb Zld-only motifs \n",
    "\n",
    "Here, we want to perturb the motifs provided that are the top- and bottom- affinity Zelda motifs and retain the profiles. This is meant to show similarities between the ZldRNAi mutant/WT comparison to show that BPNet can learn affinities.\n",
    "\n",
    "First, we want to import the affinity-sorted Zld motifs."
   ]
  },
  {
   "cell_type": "code",
   "execution_count": 19,
   "metadata": {},
   "outputs": [],
   "source": [
    "zld_affinity_motifs_file = 'bed/zld_affinities/zld_only_affinities.bed'\n",
    "zld_affinity_motifs_df = pd.read_csv(zld_affinity_motifs_file, sep = '\\t', names = ['chrom','start','end','name','score','strand'])\n",
    "\n",
    "#Define surrounding enhancer regions\n",
    "zld_affinity_enhancers_df = resize_coordinates(zld_affinity_motifs_df, width = 1000, fix = 'center')\n",
    "zld_affinity_enhancers_df['region_id'] = range(zld_affinity_enhancers_df.shape[0])"
   ]
  },
  {
   "cell_type": "code",
   "execution_count": 20,
   "metadata": {},
   "outputs": [],
   "source": [
    "#Define a new .tsv.gz file in 0-based cooordinates with region_id information\n",
    "zld_affinity_motifs_file_0based_output_file = 'tsv/mapped_motifs/zld_only_affinities_0based.tsv.gz'\n",
    "\n",
    "#Import motifs and acquire motif names and region id information\n",
    "zld_affinity_motifs_df['pattern_name'] = 'Zld'\n",
    "zld_affinity_motifs_df['region_id'] = range(zld_affinity_enhancers_df.shape[0])\n",
    "\n",
    "#Export all motifs as a set of 0-based coordinates with appropriate metadata for enhancer plotting\n",
    "zld_affinity_motifs_df.to_csv(zld_affinity_motifs_file_0based_output_file, sep = '\\t', index = False, header = True)"
   ]
  },
  {
   "cell_type": "markdown",
   "metadata": {},
   "source": [
    "Generate predictions from all the enhancers."
   ]
  },
  {
   "cell_type": "code",
   "execution_count": 21,
   "metadata": {},
   "outputs": [
    {
     "name": "stderr",
     "output_type": "stream",
     "text": [
      "490it [56:21,  6.90s/it]\n"
     ]
    }
   ],
   "source": [
    "preds_df = pd.DataFrame()\n",
    "for i,row in tqdm(zld_affinity_enhancers_df.iterrows()):\n",
    "    for t in timepoints:\n",
    "        p_df, motifs_df = perturb_single_enhancer(row['chrom'], row['start'], row['end'], row['region_id'], \n",
    "                                                  motifs_df_path = zld_affinity_motifs_file_0based_output_file,\n",
    "                                                  fasta_file = fasta_file,\n",
    "                                                  model_file = f'chrombpnet/models/model_fold1_{t}.h5',\n",
    "                                                  bias_file = f'chrombpnet/models/model_fold1_{t}.adjusted_bias_model.h5',\n",
    "                                                  trials = 16)\n",
    "        p_df['timepoint'] = t\n",
    "        p_df['motif_class'] = row['name']\n",
    "        \n",
    "        #Concatenate predictions across different timepoints\n",
    "        preds_df = preds_df.append(p_df) "
   ]
  },
  {
   "cell_type": "markdown",
   "metadata": {},
   "source": [
    "Aggregate together the data to form metapeaks."
   ]
  },
  {
   "cell_type": "code",
   "execution_count": 22,
   "metadata": {},
   "outputs": [],
   "source": [
    "metapeaks_df = preds_df.groupby(['position', 'timepoint', 'motif_class', 'mut'])['pred'].mean().reset_index()\n",
    "metapeaks_df.to_csv('tsv/perturbs/accessibility/zld_only_affinities_metapeaks.tsv.gz', sep = '\\t', index = False, header = True)"
   ]
  },
  {
   "cell_type": "code",
   "execution_count": 23,
   "metadata": {},
   "outputs": [
    {
     "data": {
      "image/png": "[encoded data removed]",
      "text/plain": [
       "<Figure size 640x480 with 8 Axes>"
      ]
     },
     "metadata": {},
     "output_type": "display_data"
    },
    {
     "data": {
      "text/plain": [
       "<ggplot: (-9223363268653578138)>"
      ]
     },
     "execution_count": 23,
     "metadata": {},
     "output_type": "execute_result"
    }
   ],
   "source": [
    "(ggplot(data = metapeaks_df, mapping = aes(x = 'position', y = 'pred'))+\n",
    "    geom_line(aes(linetype = 'mut'))+\n",
    "    facet_grid('timepoint ~ motif_class'))"
   ]
  },
  {
   "cell_type": "markdown",
   "metadata": {},
   "source": [
    "# Perturb single enhancers\n",
    "\n",
    "Here, we want to keep the entire profiles (not summarized) of the enhancers upon perturbations over timepoints."
   ]
  },
  {
   "cell_type": "code",
   "execution_count": 24,
   "metadata": {},
   "outputs": [
    {
     "data": {
      "text/html": [
       "<div>\n",
       "<style scoped>\n",
       "    .dataframe tbody tr th:only-of-type {\n",
       "        vertical-align: middle;\n",
       "    }\n",
       "\n",
       "    .dataframe tbody tr th {\n",
       "        vertical-align: top;\n",
       "    }\n",
       "\n",
       "    .dataframe thead th {\n",
       "        text-align: right;\n",
       "    }\n",
       "</style>\n",
       "<table border=\"1\" class=\"dataframe\">\n",
       "  <thead>\n",
       "    <tr style=\"text-align: right;\">\n",
       "      <th></th>\n",
       "      <th>chrom</th>\n",
       "      <th>start</th>\n",
       "      <th>end</th>\n",
       "      <th>name</th>\n",
       "      <th>score</th>\n",
       "      <th>strand</th>\n",
       "    </tr>\n",
       "  </thead>\n",
       "  <tbody>\n",
       "    <tr>\n",
       "      <th>0</th>\n",
       "      <td>chr3R</td>\n",
       "      <td>8698928</td>\n",
       "      <td>8699728</td>\n",
       "      <td>hb_(-2)_narrow</td>\n",
       "      <td>0</td>\n",
       "      <td>.</td>\n",
       "    </tr>\n",
       "    <tr>\n",
       "      <th>1</th>\n",
       "      <td>chr3R</td>\n",
       "      <td>8700793</td>\n",
       "      <td>8701593</td>\n",
       "      <td>hb_(-4)</td>\n",
       "      <td>0</td>\n",
       "      <td>.</td>\n",
       "    </tr>\n",
       "    <tr>\n",
       "      <th>2</th>\n",
       "      <td>chr3R</td>\n",
       "      <td>8694317</td>\n",
       "      <td>8695117</td>\n",
       "      <td>hb_(+0)_narrow</td>\n",
       "      <td>0</td>\n",
       "      <td>.</td>\n",
       "    </tr>\n",
       "    <tr>\n",
       "      <th>3</th>\n",
       "      <td>chr2R</td>\n",
       "      <td>25237099</td>\n",
       "      <td>25237899</td>\n",
       "      <td>Kr_(-11)</td>\n",
       "      <td>0</td>\n",
       "      <td>.</td>\n",
       "    </tr>\n",
       "    <tr>\n",
       "      <th>4</th>\n",
       "      <td>chr2R</td>\n",
       "      <td>25225984</td>\n",
       "      <td>25226784</td>\n",
       "      <td>Kr_(+0)</td>\n",
       "      <td>0</td>\n",
       "      <td>.</td>\n",
       "    </tr>\n",
       "  </tbody>\n",
       "</table>\n",
       "</div>"
      ],
      "text/plain": [
       "   chrom     start       end            name  score strand\n",
       "0  chr3R   8698928   8699728  hb_(-2)_narrow      0      .\n",
       "1  chr3R   8700793   8701593         hb_(-4)      0      .\n",
       "2  chr3R   8694317   8695117  hb_(+0)_narrow      0      .\n",
       "3  chr2R  25237099  25237899        Kr_(-11)      0      .\n",
       "4  chr2R  25225984  25226784         Kr_(+0)      0      ."
      ]
     },
     "execution_count": 24,
     "metadata": {},
     "output_type": "execute_result"
    }
   ],
   "source": [
    "# Import enhancers\n",
    "enhancers_df = pd.read_csv(enhancer_regions_file, sep = '\\t', names = ['chrom','start','end','name','score','strand'])\n",
    "enhancers_df.head()"
   ]
  },
  {
   "cell_type": "code",
   "execution_count": 25,
   "metadata": {},
   "outputs": [],
   "source": [
    "#Define a new .tsv.gz file in 0-based cooordinates with region_id information\n",
    "motifs_0based_output_file = 'tsv/mapped_motifs/all_instances_curated_0based.tsv.gz'\n",
    "\n",
    "#Import motifs and acquire motif names and region id information\n",
    "motifs_df = pd.read_csv(curated_motifs_0based, sep = '\\t', names = ['chrom','start','end','name','score','strand'])\n",
    "motif_names = [s.split('_')[0] for s in motifs_df.name.values]\n",
    "island_ids = [s.split('_')[2] for s in motifs_df.name.values]\n",
    "motifs_df['pattern_name'] = motif_names\n",
    "motifs_df['region_id'] = island_ids\n",
    "\n",
    "#Export all motifs as a set of 0-based coordinates with appropriate metadata for enhancer plotting\n",
    "motifs_df.to_csv(motifs_0based_output_file, sep = '\\t', index = False, header = True)"
   ]
  },
  {
   "cell_type": "code",
   "execution_count": 26,
   "metadata": {},
   "outputs": [
    {
     "name": "stderr",
     "output_type": "stream",
     "text": [
      "46it [07:48, 10.19s/it]\n"
     ]
    }
   ],
   "source": [
    "for i,row in tqdm(enhancers_df.iterrows()):\n",
    "    enhancer_name = row['name']\n",
    "    preds_df = pd.DataFrame()\n",
    "    for t in timepoints:\n",
    "        p_df, motifs_df = perturb_single_enhancer(row['chrom'], row['start'], row['end'], row['name'], \n",
    "                                                  motifs_df_path = motifs_0based_output_file,\n",
    "                                                  fasta_file = fasta_file,\n",
    "                                                  model_file = f'chrombpnet/models/model_fold1_{t}.h5',\n",
    "                                                  bias_file = f'chrombpnet/models/model_fold1_{t}.adjusted_bias_model.h5',\n",
    "                                                  trials = 16)\n",
    "        p_df['timepoint'] = t\n",
    "        \n",
    "        #Concatenate predictions across different timepoints\n",
    "        preds_df = preds_df.append(p_df)\n",
    "        \n",
    "    preds_df.to_csv(f'{enhancer_perturb_output_dir}/{enhancer_name}_preds.tsv.gz', sep = '\\t', index = False)\n",
    "    motifs_df.to_csv(f'{enhancer_perturb_output_dir}/{enhancer_name}_motifs.tsv.gz', sep = '\\t', index = False)\n",
    "                           "
   ]
  },
  {
   "cell_type": "markdown",
   "metadata": {},
   "source": [
    "Enhancers will be plotted in later analysis. Here the purpose was to store the metadata."
   ]
  },
  {
   "cell_type": "code",
   "execution_count": null,
   "metadata": {},
   "outputs": [],
   "source": []
  },
  {
   "cell_type": "code",
   "execution_count": null,
   "metadata": {},
   "outputs": [],
   "source": []
  },
  {
   "cell_type": "code",
   "execution_count": null,
   "metadata": {},
   "outputs": [],
   "source": []
  },
  {
   "cell_type": "code",
   "execution_count": null,
   "metadata": {},
   "outputs": [],
   "source": []
  }
 ],
 "metadata": {
  "kernelspec": {
   "display_name": "chrombpnet",
   "language": "python",
   "name": "chrombpnet"
  },
  "language_info": {
   "codemirror_mode": {
    "name": "ipython",
    "version": 3
   },
   "file_extension": ".py",
   "mimetype": "text/x-python",
   "name": "python",
   "nbconvert_exporter": "python",
   "pygments_lexer": "ipython3",
   "version": "3.6.8"
  }
 },
 "nbformat": 4,
 "nbformat_minor": 2
}
