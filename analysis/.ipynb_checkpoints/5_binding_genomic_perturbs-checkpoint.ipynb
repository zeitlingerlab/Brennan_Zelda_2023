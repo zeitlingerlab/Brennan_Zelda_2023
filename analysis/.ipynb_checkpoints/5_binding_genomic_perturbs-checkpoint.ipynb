{
 "cells": [
  {
   "cell_type": "markdown",
   "metadata": {},
   "source": [
    "# Introduction\n",
    "\n",
    "The purpose of this .ipynb is to generate combinatorial perturbations of motifs based on `ZDTBCG` model from curated motifs. We will generate perturbations across nucleosome (200bp), and entire window (1000bp) range. Combinatorial perturbations can be defined as perturbations of motifs in distinct combinations across each distinct enhancer/peak given. We will perturb up to 2 motifs at a time, in any combination. From this, we will be able to extract pairwise motif-motif synergy and single motif effects on different modes of binding. \n",
    "\n",
    "# Computational setup"
   ]
  },
  {
   "cell_type": "code",
   "execution_count": 1,
   "metadata": {},
   "outputs": [
    {
     "name": "stderr",
     "output_type": "stream",
     "text": [
      "Using TensorFlow backend.\n"
     ]
    }
   ],
   "source": [
    "import warnings\n",
    "warnings.filterwarnings(\"ignore\")\n",
    "from tensorflow.python.util import deprecation\n",
    "deprecation._PRINT_DEPRECATION_WARNINGS = False\n",
    "\n",
    "#Packages\n",
    "import os\n",
    "import sys\n",
    "import pandas as pd\n",
    "import numpy as np\n",
    "from pybedtools import BedTool\n",
    "from bpnet.cli.contrib import bpnet_contrib\n",
    "from bpnet.cli.modisco import cwm_scan\n",
    "\n",
    "# Settings\n",
    "os.chdir('/l/Zeitlinger/ZeitlingerLab/Manuscripts/Zelda_and_Nucleosomes/Analysis/analysis/')\n",
    "pd.set_option('display.max_columns', 100)\n",
    "\n",
    "#Pre-existing variables\n",
    "fasta_file = f'../data/indexes/bowtie2/dm6.fa'\n",
    "model_dir = 'bpnet/models/optimized_model/fold1'\n",
    "modisco_dir = f'bpnet/modisco/fold1/'\n",
    "curated_motifs = f'bed/mapped_motifs/all_instances_curated_0based.bed'\n",
    "curated_regions = f'bed/mapped_motifs/all_grouped_regions_0based.bed'\n",
    "tasks = ['Zld', 'Dl', 'Twi', 'Bcd', 'Cad', 'GAF']\n",
    "\n",
    "# Dependent variables\n",
    "perturb_output_dir = f'tsv/perturbs/binding/genomic'"
   ]
  },
  {
   "cell_type": "code",
   "execution_count": 2,
   "metadata": {},
   "outputs": [],
   "source": [
    "!mkdir -p {perturb_output_dir}"
   ]
  },
  {
   "cell_type": "markdown",
   "metadata": {},
   "source": [
    "# Collect mapped motifs together\n",
    "\n",
    "Here, we need to import the motifs that were curated during `3_` and add the correct columns such that the `bpnet_generate_perturbations` script can be satisfied. To do this, we need a 0-based coordinate .tsv file with the following columns: `pattern_name`, `example_idx`, `example_chrom`, `pattern_start`, `pattern_end`, `pattern_len`"
   ]
  },
  {
   "cell_type": "code",
   "execution_count": 3,
   "metadata": {},
   "outputs": [
    {
     "name": "stderr",
     "output_type": "stream",
     "text": [
      "2022-08-04 10:21:22,889 [INFO] Note: NumExpr detected 64 cores but \"NUMEXPR_MAX_THREADS\" not set, so enforcing safe limit of 8.\n",
      "2022-08-04 10:21:22,892 [INFO] NumExpr defaulting to 8 threads.\n"
     ]
    },
    {
     "data": {
      "text/plain": [
       "(69318, 11)"
      ]
     },
     "execution_count": 3,
     "metadata": {},
     "output_type": "execute_result"
    }
   ],
   "source": [
    "#Import set of motifs\n",
    "motifs_df = BedTool(curated_motifs).to_dataframe()\n",
    "motifs_df.columns = ['example_chrom','start','end','name','score','strand']\n",
    "\n",
    "#Separate motif name\n",
    "motifs_df['pattern_len'] = motifs_df['end'] - motifs_df['start']\n",
    "motifs_df['pattern_name'] = [n.split('_')[0] for n in motifs_df.name]\n",
    "motifs_df['motif_id'] = [n.split('_')[1] for n in motifs_df.name]\n",
    "motifs_df['example_idx'] = [n.split('_')[2] for n in motifs_df.name]\n",
    "motifs_df['region_id'] = [n.split('_')[2] for n in motifs_df.name]\n",
    "motifs_df.shape"
   ]
  },
  {
   "cell_type": "markdown",
   "metadata": {},
   "source": [
    "Match grouped regions to motifs and collect motif position within the windows to obtain `pattern_start` and `pattern_end`. We do this now because it is far easier to work with 0-based coordinated in python than in R."
   ]
  },
  {
   "cell_type": "code",
   "execution_count": 4,
   "metadata": {},
   "outputs": [],
   "source": [
    "regions_df = BedTool(curated_regions).to_dataframe()\n",
    "regions_df.columns = ['region_chrom','region_start','region_end','region_id','region_score','region_strand']\n",
    "regions_df['region_id']=regions_df['region_id'].astype(str)"
   ]
  },
  {
   "cell_type": "code",
   "execution_count": 5,
   "metadata": {},
   "outputs": [
    {
     "name": "stdout",
     "output_type": "stream",
     "text": [
      "Twi    23825\n",
      "Bcd    17344\n",
      "Cad    13491\n",
      "GAF     7429\n",
      "Zld     5264\n",
      "Dl      1965\n",
      "Name: pattern_name, dtype: int64\n",
      "1     28097\n",
      "2      9921\n",
      "3      3436\n",
      "4      1361\n",
      "5       543\n",
      "6       224\n",
      "7       100\n",
      "8        51\n",
      "9        23\n",
      "10       11\n",
      "12        6\n",
      "11        4\n",
      "14        1\n",
      "13        1\n",
      "Name: region_id, dtype: int64\n"
     ]
    }
   ],
   "source": [
    "motifs_df = motifs_df.merge(regions_df[['region_start','region_end','region_id']], on = 'region_id', how = 'left')\n",
    "motifs_df['pattern_start'] = motifs_df['start']-motifs_df['region_start']\n",
    "motifs_df['pattern_end'] = motifs_df['end']-motifs_df['region_start']\n",
    "\n",
    "#Save motifs\n",
    "motifs_df.to_csv(f'{perturb_output_dir}/all_instances_curated_formatted_0based.tsv.gz', sep = '\\t', index = False)\n",
    "print(motifs_df.pattern_name.value_counts())\n",
    "print(motifs_df.region_id.value_counts().value_counts())"
   ]
  },
  {
   "cell_type": "markdown",
   "metadata": {},
   "source": [
    "# Generate contributions to match the curated coordinates\n",
    "\n",
    "Because the `example_idx` files were changing, we wanted to generate contributions to match these modified coordinates. Otherwise, `ContribFile(original_contrib.h5).get_seq()` will return the incorrect sequence."
   ]
  },
  {
   "cell_type": "code",
   "execution_count": 6,
   "metadata": {},
   "outputs": [
    {
     "name": "stdout",
     "output_type": "stream",
     "text": [
      "bpnet contrib --method deeplift --memfrac-gpu 1 --regions bed/mapped_motifs/all_grouped_regions_0based.bed bpnet/models/optimized_model/fold1 bpnet/preds/fold1/all_grouped_regions_0based_contrib.h5\n"
     ]
    }
   ],
   "source": [
    "contrib_cmd = f'bpnet contrib --method deeplift --memfrac-gpu 1 --regions {curated_regions} \\\n",
    "{model_dir} bpnet/preds/fold1/all_grouped_regions_0based_contrib.h5'\n",
    "contrib_file = f'bpnet/preds/fold1/all_grouped_regions_0based_contrib.h5'\n",
    "print(contrib_cmd)"
   ]
  },
  {
   "cell_type": "markdown",
   "metadata": {},
   "source": [
    "# Generate perturbations\n",
    "\n",
    "`/n/projects/mw2098/shared_code/bpnet/bpnet_generate_perturbations.py` contains the scripts required to generate the sum and maximum values across each (1) task, (2) annotated motif, (3) mutant combination. Pseudocounts of the entire window for each (1) task and (2) mutant combination are also included for further analysis.\n",
    "\n",
    "For reduced time in generating predictions, you can enable a GPU"
   ]
  },
  {
   "cell_type": "markdown",
   "metadata": {},
   "source": [
    "## Generate windowed perturbations\n",
    "\n",
    "These perturbations will consider a window of 50bp around the center of each motif. This lets us look at the maximum profile height effects across certain windows. This analysis is intended for usage on TFs that bind normally and are localized across motifs. It is code that is meant to recreate the BPNet paper's (Avsec 2022, Nature Genetics), Figure 5. \n",
    "\n"
   ]
  },
  {
   "cell_type": "markdown",
   "metadata": {},
   "source": [
    "### Generate across nucleosome range"
   ]
  },
  {
   "cell_type": "code",
   "execution_count": 7,
   "metadata": {},
   "outputs": [
    {
     "data": {
      "text/plain": [
       "'~/anaconda3/envs/bpnet-gpu/bin/python scripts/py/bpnet_generate_perturbations.py -d tsv/perturbs/binding/genomic/all_instances_curated_formatted_0based.tsv.gz -m bpnet/models/optimized_model/fold1 -c bpnet/preds/fold1/all_grouped_regions_0based_contrib.h5 -o tsv/perturbs/binding/genomic/perturbs_200bp --comb_max 2 -t 16 -n 16 -w 200 -g 0 -x .9'"
      ]
     },
     "execution_count": 7,
     "metadata": {},
     "output_type": "execute_result"
    }
   ],
   "source": [
    "nuc_perturb_cmd = f'~/anaconda3/envs/bpnet-gpu/bin/python scripts/py/bpnet_generate_perturbations.py \\\n",
    "-d {perturb_output_dir}/all_instances_curated_formatted_0based.tsv.gz \\\n",
    "-m {model_dir} -c {contrib_file} -o {perturb_output_dir}/perturbs_200bp --comb_max 2 -t 16 -n 16 -w 200 -g 0 -x .9'\n",
    "nuc_perturb_cmd"
   ]
  },
  {
   "cell_type": "markdown",
   "metadata": {},
   "source": [
    "### Generate across enhancer whole"
   ]
  },
  {
   "cell_type": "code",
   "execution_count": 8,
   "metadata": {},
   "outputs": [
    {
     "data": {
      "text/plain": [
       "'~/anaconda3/envs/bpnet-gpu/bin/python scripts/py/bpnet_generate_perturbations.py -d tsv/perturbs/binding/genomic/all_instances_curated_formatted_0based.tsv.gz -m bpnet/models/optimized_model/fold1 -c bpnet/preds/fold1/all_grouped_regions_0based_contrib.h5 -o tsv/perturbs/binding/genomic/perturbs_1000bp --comb_max 2 -t 16 -n 16 --use_whole_window -g 0 -x .9'"
      ]
     },
     "execution_count": 8,
     "metadata": {},
     "output_type": "execute_result"
    }
   ],
   "source": [
    "all_perturb_cmd=f'~/anaconda3/envs/bpnet-gpu/bin/python scripts/py/bpnet_generate_perturbations.py \\\n",
    "-d {perturb_output_dir}/all_instances_curated_formatted_0based.tsv.gz \\\n",
    "-m {model_dir} -c {contrib_file} -o {perturb_output_dir}/perturbs_1000bp --comb_max 2 -t 16 -n 16 --use_whole_window -g 0 -x .9'\n",
    "all_perturb_cmd"
   ]
  },
  {
   "cell_type": "markdown",
   "metadata": {},
   "source": [
    "## Wrap commands into an `.sge` script."
   ]
  },
  {
   "cell_type": "code",
   "execution_count": 9,
   "metadata": {},
   "outputs": [],
   "source": [
    "basedir = os.getcwd()\n",
    "sge_header = ['#$ -cwd', '#$ -S /bin/bash', '#$ -N genomic_perturbs', '#$ -pe smp 50','#$ -l h_rt=24:00:00', '#$ -V']\n",
    "setup_cmds = ['conda activate /home/mw2098/anaconda3/envs/bpnet-gpu', f'cd {basedir}']\n",
    "cmds = sge_header + setup_cmds + [contrib_cmd, nuc_perturb_cmd, all_perturb_cmd]\n",
    "output_cmd_path = 'tmp/ZDTBCG_genomic_perturbs.sge'  \n",
    "#Write script\n",
    "output_hit_mapping_script = open(output_cmd_path, \"w\")\n",
    "for i in cmds:\n",
    "    output_hit_mapping_script.write(i + \"\\n\")\n",
    "output_hit_mapping_script.close()"
   ]
  },
  {
   "cell_type": "code",
   "execution_count": 10,
   "metadata": {},
   "outputs": [],
   "source": [
    "%%script false --no-raise-error\n",
    "!qsub tmp/ZDTBCG_genomic_perturbs.sge"
   ]
  },
  {
   "cell_type": "markdown",
   "metadata": {},
   "source": [
    "Analysis of these genomic perturbations will be done in subsequent analysis (i.e. `5a_*...`)."
   ]
  },
  {
   "cell_type": "code",
   "execution_count": null,
   "metadata": {},
   "outputs": [],
   "source": []
  },
  {
   "cell_type": "code",
   "execution_count": null,
   "metadata": {},
   "outputs": [],
   "source": []
  }
 ],
 "metadata": {
  "kernelspec": {
   "display_name": "bpnet",
   "language": "python",
   "name": "bpnet"
  },
  "language_info": {
   "codemirror_mode": {
    "name": "ipython",
    "version": 3
   },
   "file_extension": ".py",
   "mimetype": "text/x-python",
   "name": "python",
   "nbconvert_exporter": "python",
   "pygments_lexer": "ipython3",
   "version": "3.6.7"
  }
 },
 "nbformat": 4,
 "nbformat_minor": 4
}
