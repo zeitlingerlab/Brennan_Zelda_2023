{
 "cells": [
  {
   "cell_type": "markdown",
   "metadata": {},
   "source": [
    "# Introduction\n",
    "\n",
    "The purpose of this .ipynb is to generate motif-pair in-silico perturbations across canonical `ZDTBCH` motifs and their variants. This will allow us to assess whether motif pairs have preferential distances of cooperativity or directional hierarchy in how they cooperate. Additionally, we want to investigate the role of Zelda binding in the presence of low-affinity Zelda motifs. To do this, we will measure marginalization scores of different Zelda motif variants. \n",
    "\n",
    "# Computational setup"
   ]
  },
  {
   "cell_type": "code",
   "execution_count": 1,
   "metadata": {},
   "outputs": [
    {
     "name": "stderr",
     "output_type": "stream",
     "text": [
      "Using TensorFlow backend.\n",
      "2022-09-21 10:03:46,553 [INFO] Note: NumExpr detected 64 cores but \"NUMEXPR_MAX_THREADS\" not set, so enforcing safe limit of 8.\n",
      "2022-09-21 10:03:46,556 [INFO] NumExpr defaulting to 8 threads.\n"
     ]
    }
   ],
   "source": [
    "import warnings\n",
    "warnings.filterwarnings(\"ignore\")\n",
    "from tensorflow.python.util import deprecation\n",
    "deprecation._PRINT_DEPRECATION_WARNINGS = False\n",
    "\n",
    "#Packages\n",
    "import os\n",
    "import sys\n",
    "import random\n",
    "import pandas as pd\n",
    "import numpy as np\n",
    "from tqdm import tqdm\n",
    "from pybedtools import BedTool\n",
    "from bpnet.BPNet import BPNetSeqModel\n",
    "from bpnet.simulate import insert_motif\n",
    "\n",
    "# Settings\n",
    "os.chdir('/l/Zeitlinger/ZeitlingerLab/Manuscripts/Zelda_and_Nucleosomes/Analysis/analysis/')\n",
    "pd.set_option('display.max_columns', 100)\n",
    "figure_filepath = 'figures/6_binding_insilico_perturbs'\n",
    "\n",
    "# Custom commands\n",
    "sys.path.insert(0, f'scripts/py')\n",
    "from bpnet_data_format_functions import myround, myfloor, myceiling\n",
    "from bpnet_motif_functions import one_hot_encode_sequences\n",
    "\n",
    "#Pre-existing variables\n",
    "model_dir = f'bpnet/models/optimized_model/fold1'\n",
    "motif_seqs = {\n",
    "    'Zld': 'CAGGTAG',\n",
    "    'GAF': 'GAGAGAGAGAGAGAGAG',\n",
    "    'Cad': 'TTTTATGGCC',\n",
    "    'Dl': 'GGGAAAACCC',\n",
    "    'Twi': 'AACACATGTT',\n",
    "    'Bcd': 'TTAATCC'\n",
    "}\n",
    "motif_colors = {'Zld': '#38b6f1',\n",
    "                'Dl': '#d9a404',\n",
    "                'Twi': '#ef3f54',\n",
    "                'Bcd': '#1bb04c',\n",
    "                'Cad': '#c4acb4',\n",
    "                'GAF': '#f47b2f'\n",
    "             }"
   ]
  },
  {
   "cell_type": "code",
   "execution_count": 2,
   "metadata": {},
   "outputs": [],
   "source": [
    "!mkdir -p {figure_filepath}/individual_pairs\n",
    "!mkdir -p tsv/perturbs/binding/insilico"
   ]
  },
  {
   "cell_type": "markdown",
   "metadata": {},
   "source": [
    "# Define motif pairs\n",
    "\n",
    "Here, we will look at each homotypic and heterotypic motif pair."
   ]
  },
  {
   "cell_type": "code",
   "execution_count": 3,
   "metadata": {},
   "outputs": [],
   "source": [
    "from itertools import permutations \n",
    "motif_perms = list(permutations(motif_seqs.keys(), 2))\n",
    "motif_perms.extend([('Dl', 'Dl'), ('Zld', 'Zld'), ('Twi', 'Twi'), ('Bcd', 'Bcd'), ('Cad', 'Cad'), ('GAF', 'GAF')])"
   ]
  },
  {
   "cell_type": "markdown",
   "metadata": {},
   "source": [
    "# Collect in silico perturbations\n",
    "\n",
    "Here, we will collect (1) for every motif, (2) across every motif-motif center-to-center distance of 5-400bp, (3) over 64 trials per combination of (1) and (2) the in silico predictions of every task for these situations. Because this is a large number of predictions, `36x395x64`, we want to use the GPU. The below script and associated Python script `bpnet_generate_in_silico_data.py` has the code necessary to generate these collections. The returned outcome will be a large `tsv.gz` tidied data.frame of the prediction scores."
   ]
  },
  {
   "cell_type": "code",
   "execution_count": 4,
   "metadata": {},
   "outputs": [],
   "source": [
    "%%script false --no-raise-error\n",
    "!qsub scripts/bpnet_generate_in_silico_data.sge"
   ]
  },
  {
   "cell_type": "markdown",
   "metadata": {},
   "source": [
    "# Import in silico perturbations\n",
    "\n",
    "Read in the summaries after they are generated and assign motif pair names and information for simultaneous plotting."
   ]
  },
  {
   "cell_type": "code",
   "execution_count": 5,
   "metadata": {},
   "outputs": [
    {
     "data": {
      "text/html": [
       "<div>\n",
       "<style scoped>\n",
       "    .dataframe tbody tr th:only-of-type {\n",
       "        vertical-align: middle;\n",
       "    }\n",
       "\n",
       "    .dataframe tbody tr th {\n",
       "        vertical-align: top;\n",
       "    }\n",
       "\n",
       "    .dataframe thead th {\n",
       "        text-align: right;\n",
       "    }\n",
       "</style>\n",
       "<table border=\"1\" class=\"dataframe\">\n",
       "  <thead>\n",
       "    <tr style=\"text-align: right;\">\n",
       "      <th></th>\n",
       "      <th>Unnamed: 0</th>\n",
       "      <th>profile/simmetric_kl</th>\n",
       "      <th>profile/counts</th>\n",
       "      <th>profile/counts_frac</th>\n",
       "      <th>profile/max</th>\n",
       "      <th>profile/max_frac</th>\n",
       "      <th>profile/counts_max_ref</th>\n",
       "      <th>profile/counts_max_ref_frac</th>\n",
       "      <th>task</th>\n",
       "      <th>central_motif</th>\n",
       "      <th>side_motif</th>\n",
       "      <th>position</th>\n",
       "      <th>distance</th>\n",
       "    </tr>\n",
       "  </thead>\n",
       "  <tbody>\n",
       "    <tr>\n",
       "      <th>0</th>\n",
       "      <td>0</td>\n",
       "      <td>0.006859</td>\n",
       "      <td>227.149933</td>\n",
       "      <td>0.692923</td>\n",
       "      <td>0.744016</td>\n",
       "      <td>0.611860</td>\n",
       "      <td>1.154938</td>\n",
       "      <td>0.503936</td>\n",
       "      <td>Bcd</td>\n",
       "      <td>Zld</td>\n",
       "      <td>GAF</td>\n",
       "      <td>505</td>\n",
       "      <td>5</td>\n",
       "    </tr>\n",
       "    <tr>\n",
       "      <th>1</th>\n",
       "      <td>1</td>\n",
       "      <td>0.008102</td>\n",
       "      <td>179.512390</td>\n",
       "      <td>0.647071</td>\n",
       "      <td>0.578920</td>\n",
       "      <td>0.522642</td>\n",
       "      <td>0.915542</td>\n",
       "      <td>0.443097</td>\n",
       "      <td>Cad</td>\n",
       "      <td>Zld</td>\n",
       "      <td>GAF</td>\n",
       "      <td>505</td>\n",
       "      <td>5</td>\n",
       "    </tr>\n",
       "    <tr>\n",
       "      <th>2</th>\n",
       "      <td>2</td>\n",
       "      <td>0.005470</td>\n",
       "      <td>87.673813</td>\n",
       "      <td>0.765372</td>\n",
       "      <td>0.262567</td>\n",
       "      <td>0.587637</td>\n",
       "      <td>0.442983</td>\n",
       "      <td>0.498377</td>\n",
       "      <td>Dl</td>\n",
       "      <td>Zld</td>\n",
       "      <td>GAF</td>\n",
       "      <td>505</td>\n",
       "      <td>5</td>\n",
       "    </tr>\n",
       "    <tr>\n",
       "      <th>3</th>\n",
       "      <td>3</td>\n",
       "      <td>inf</td>\n",
       "      <td>41.216709</td>\n",
       "      <td>0.777628</td>\n",
       "      <td>0.632996</td>\n",
       "      <td>3.088988</td>\n",
       "      <td>0.152778</td>\n",
       "      <td>0.389757</td>\n",
       "      <td>GAF</td>\n",
       "      <td>Zld</td>\n",
       "      <td>GAF</td>\n",
       "      <td>505</td>\n",
       "      <td>5</td>\n",
       "    </tr>\n",
       "    <tr>\n",
       "      <th>4</th>\n",
       "      <td>4</td>\n",
       "      <td>0.030251</td>\n",
       "      <td>93.348457</td>\n",
       "      <td>0.584706</td>\n",
       "      <td>0.363591</td>\n",
       "      <td>0.522459</td>\n",
       "      <td>0.518286</td>\n",
       "      <td>0.410070</td>\n",
       "      <td>Twi</td>\n",
       "      <td>Zld</td>\n",
       "      <td>GAF</td>\n",
       "      <td>505</td>\n",
       "      <td>5</td>\n",
       "    </tr>\n",
       "  </tbody>\n",
       "</table>\n",
       "</div>"
      ],
      "text/plain": [
       "   Unnamed: 0  profile/simmetric_kl  profile/counts  profile/counts_frac  \\\n",
       "0           0              0.006859      227.149933             0.692923   \n",
       "1           1              0.008102      179.512390             0.647071   \n",
       "2           2              0.005470       87.673813             0.765372   \n",
       "3           3                   inf       41.216709             0.777628   \n",
       "4           4              0.030251       93.348457             0.584706   \n",
       "\n",
       "   profile/max  profile/max_frac  profile/counts_max_ref  \\\n",
       "0     0.744016          0.611860                1.154938   \n",
       "1     0.578920          0.522642                0.915542   \n",
       "2     0.262567          0.587637                0.442983   \n",
       "3     0.632996          3.088988                0.152778   \n",
       "4     0.363591          0.522459                0.518286   \n",
       "\n",
       "   profile/counts_max_ref_frac task central_motif side_motif  position  \\\n",
       "0                     0.503936  Bcd           Zld        GAF       505   \n",
       "1                     0.443097  Cad           Zld        GAF       505   \n",
       "2                     0.498377   Dl           Zld        GAF       505   \n",
       "3                     0.389757  GAF           Zld        GAF       505   \n",
       "4                     0.410070  Twi           Zld        GAF       505   \n",
       "\n",
       "   distance  \n",
       "0         5  \n",
       "1         5  \n",
       "2         5  \n",
       "3         5  \n",
       "4         5  "
      ]
     },
     "execution_count": 5,
     "metadata": {},
     "output_type": "execute_result"
    }
   ],
   "source": [
    "dfs_all = pd.read_csv(f'tsv/perturbs/binding/insilico/insilico_summaries.tsv.gz', sep = '\\t')\n",
    "dfs_all.head(n=5)"
   ]
  },
  {
   "cell_type": "markdown",
   "metadata": {},
   "source": [
    "Collect motif pairs and organize for plotting."
   ]
  },
  {
   "cell_type": "code",
   "execution_count": 6,
   "metadata": {},
   "outputs": [
    {
     "data": {
      "text/html": [
       "<div>\n",
       "<style scoped>\n",
       "    .dataframe tbody tr th:only-of-type {\n",
       "        vertical-align: middle;\n",
       "    }\n",
       "\n",
       "    .dataframe tbody tr th {\n",
       "        vertical-align: top;\n",
       "    }\n",
       "\n",
       "    .dataframe thead th {\n",
       "        text-align: right;\n",
       "    }\n",
       "</style>\n",
       "<table border=\"1\" class=\"dataframe\">\n",
       "  <thead>\n",
       "    <tr style=\"text-align: right;\">\n",
       "      <th></th>\n",
       "      <th>Unnamed: 0</th>\n",
       "      <th>profile/simmetric_kl</th>\n",
       "      <th>profile/counts</th>\n",
       "      <th>profile/counts_frac</th>\n",
       "      <th>profile/max</th>\n",
       "      <th>profile/max_frac</th>\n",
       "      <th>profile/counts_max_ref</th>\n",
       "      <th>profile/counts_max_ref_frac</th>\n",
       "      <th>task</th>\n",
       "      <th>central_motif</th>\n",
       "      <th>side_motif</th>\n",
       "      <th>position</th>\n",
       "      <th>distance</th>\n",
       "      <th>motif_pair</th>\n",
       "      <th>motif_pair_raw</th>\n",
       "      <th>featured_task</th>\n",
       "    </tr>\n",
       "  </thead>\n",
       "  <tbody>\n",
       "    <tr>\n",
       "      <th>0</th>\n",
       "      <td>0</td>\n",
       "      <td>0.006859</td>\n",
       "      <td>227.149933</td>\n",
       "      <td>0.692923</td>\n",
       "      <td>0.744016</td>\n",
       "      <td>0.611860</td>\n",
       "      <td>1.154938</td>\n",
       "      <td>0.503936</td>\n",
       "      <td>Bcd</td>\n",
       "      <td>Zld</td>\n",
       "      <td>GAF</td>\n",
       "      <td>505</td>\n",
       "      <td>5</td>\n",
       "      <td>GAF_Zld</td>\n",
       "      <td>Zld_GAF</td>\n",
       "      <td>False</td>\n",
       "    </tr>\n",
       "    <tr>\n",
       "      <th>1</th>\n",
       "      <td>1</td>\n",
       "      <td>0.008102</td>\n",
       "      <td>179.512390</td>\n",
       "      <td>0.647071</td>\n",
       "      <td>0.578920</td>\n",
       "      <td>0.522642</td>\n",
       "      <td>0.915542</td>\n",
       "      <td>0.443097</td>\n",
       "      <td>Cad</td>\n",
       "      <td>Zld</td>\n",
       "      <td>GAF</td>\n",
       "      <td>505</td>\n",
       "      <td>5</td>\n",
       "      <td>GAF_Zld</td>\n",
       "      <td>Zld_GAF</td>\n",
       "      <td>False</td>\n",
       "    </tr>\n",
       "    <tr>\n",
       "      <th>2</th>\n",
       "      <td>2</td>\n",
       "      <td>0.005470</td>\n",
       "      <td>87.673813</td>\n",
       "      <td>0.765372</td>\n",
       "      <td>0.262567</td>\n",
       "      <td>0.587637</td>\n",
       "      <td>0.442983</td>\n",
       "      <td>0.498377</td>\n",
       "      <td>Dl</td>\n",
       "      <td>Zld</td>\n",
       "      <td>GAF</td>\n",
       "      <td>505</td>\n",
       "      <td>5</td>\n",
       "      <td>GAF_Zld</td>\n",
       "      <td>Zld_GAF</td>\n",
       "      <td>False</td>\n",
       "    </tr>\n",
       "    <tr>\n",
       "      <th>3</th>\n",
       "      <td>3</td>\n",
       "      <td>inf</td>\n",
       "      <td>41.216709</td>\n",
       "      <td>0.777628</td>\n",
       "      <td>0.632996</td>\n",
       "      <td>3.088988</td>\n",
       "      <td>0.152778</td>\n",
       "      <td>0.389757</td>\n",
       "      <td>GAF</td>\n",
       "      <td>Zld</td>\n",
       "      <td>GAF</td>\n",
       "      <td>505</td>\n",
       "      <td>5</td>\n",
       "      <td>GAF_Zld</td>\n",
       "      <td>Zld_GAF</td>\n",
       "      <td>False</td>\n",
       "    </tr>\n",
       "  </tbody>\n",
       "</table>\n",
       "</div>"
      ],
      "text/plain": [
       "   Unnamed: 0  profile/simmetric_kl  profile/counts  profile/counts_frac  \\\n",
       "0           0              0.006859      227.149933             0.692923   \n",
       "1           1              0.008102      179.512390             0.647071   \n",
       "2           2              0.005470       87.673813             0.765372   \n",
       "3           3                   inf       41.216709             0.777628   \n",
       "\n",
       "   profile/max  profile/max_frac  profile/counts_max_ref  \\\n",
       "0     0.744016          0.611860                1.154938   \n",
       "1     0.578920          0.522642                0.915542   \n",
       "2     0.262567          0.587637                0.442983   \n",
       "3     0.632996          3.088988                0.152778   \n",
       "\n",
       "   profile/counts_max_ref_frac task central_motif side_motif  position  \\\n",
       "0                     0.503936  Bcd           Zld        GAF       505   \n",
       "1                     0.443097  Cad           Zld        GAF       505   \n",
       "2                     0.498377   Dl           Zld        GAF       505   \n",
       "3                     0.389757  GAF           Zld        GAF       505   \n",
       "\n",
       "   distance motif_pair motif_pair_raw  featured_task  \n",
       "0         5    GAF_Zld        Zld_GAF          False  \n",
       "1         5    GAF_Zld        Zld_GAF          False  \n",
       "2         5    GAF_Zld        Zld_GAF          False  \n",
       "3         5    GAF_Zld        Zld_GAF          False  "
      ]
     },
     "execution_count": 6,
     "metadata": {},
     "output_type": "execute_result"
    }
   ],
   "source": [
    "#Assign motif_pair names for faceting\n",
    "motif_pair = []\n",
    "for i in range(dfs_all.shape[0]):\n",
    "    if dfs_all.central_motif.iloc[i] > dfs_all.side_motif.iloc[i]:\n",
    "        val = dfs_all.side_motif.iloc[i] + '_' + dfs_all.central_motif.iloc[i]\n",
    "        motif_pair.append(val)\n",
    "    else:\n",
    "        val = dfs_all.central_motif.iloc[i] + '_' + dfs_all.side_motif.iloc[i]\n",
    "        motif_pair.append(val)\n",
    "dfs_all['motif_pair'] = motif_pair\n",
    "dfs_all['motif_pair_raw'] = dfs_all.central_motif + '_' + dfs_all.side_motif\n",
    "\n",
    "#Mark the BPNet tasks as 'featured' for plotting\n",
    "featured_idx = [row.task in row.central_motif for idx,row in dfs_all.iterrows()]\n",
    "dfs_all['featured_task'] = featured_idx\n",
    "\n",
    "#Make categorigal variable column\n",
    "dfs_all['task'] = pd.Categorical(dfs_all['task'], categories = list(motif_colors.keys()), ordered = False)\n",
    "dfs_all.head(n=4)"
   ]
  },
  {
   "cell_type": "markdown",
   "metadata": {},
   "source": [
    "Plot the motif pair summaries at their respective distances. "
   ]
  },
  {
   "cell_type": "code",
   "execution_count": 7,
   "metadata": {},
   "outputs": [
    {
     "data": {
      "text/plain": [
       "array(['GAF_Zld', 'Cad_Zld', 'Dl_Zld', 'Twi_Zld', 'Bcd_Zld', 'Cad_GAF',\n",
       "       'Dl_GAF', 'GAF_Twi', 'Bcd_GAF', 'Cad_Dl', 'Cad_Twi', 'Bcd_Cad',\n",
       "       'Dl_Twi', 'Bcd_Dl', 'Bcd_Twi', 'Dl_Dl', 'Zld_Zld', 'Twi_Twi',\n",
       "       'Bcd_Bcd', 'Cad_Cad', 'GAF_GAF'], dtype=object)"
      ]
     },
     "execution_count": 7,
     "metadata": {},
     "output_type": "execute_result"
    }
   ],
   "source": [
    "dfs_all.motif_pair.unique()"
   ]
  },
  {
   "cell_type": "markdown",
   "metadata": {},
   "source": [
    "Plot motif-pair synergy based on in silico perturbations"
   ]
  },
  {
   "cell_type": "code",
   "execution_count": 8,
   "metadata": {},
   "outputs": [
    {
     "name": "stderr",
     "output_type": "stream",
     "text": [
      "100%|██████████| 21/21 [01:04<00:00,  3.08s/it]\n"
     ]
    }
   ],
   "source": [
    "import plotnine\n",
    "from plotnine import *\n",
    "plotnine.options.figure_size = (8, 2)\n",
    "\n",
    "for pair in tqdm(dfs_all.motif_pair.unique()):\n",
    "    df = dfs_all[dfs_all.motif_pair==pair]\n",
    "    df['profile/counts_max_ref_log2'] = np.log2(df['profile/counts_max_ref_frac'])\n",
    "    df['profile/counts_log2'] = np.log2(df['profile/counts_frac'])\n",
    "    \n",
    "    gsum = (ggplot(data = df, mapping = aes(x='distance', y='profile/counts_log2')) + \n",
    "     geom_line(aes(color = 'task', alpha = 'featured_task'))+ #, linetype = 'featured_task')) + \n",
    "     facet_wrap('~motif_pair_raw', nrow = 1) +\n",
    "     geom_hline(yintercept=0, alpha=0.2) + \n",
    "     scale_x_continuous(breaks = range(0,400,50), name = 'Center-to-center distance (bp)')+\n",
    "     scale_y_continuous(name = 'Sum log2(fc) of preds.')+\n",
    "     scale_color_manual(values = list(motif_colors.values()), \n",
    "                        name = \"Task\") + \n",
    "     scale_alpha_manual(values = [.4,1], name = \"Main task\") +\n",
    "#      scale_linetype_manual(values = ['dotted','solid'], name = \"Main task\") +\n",
    "     theme_minimal())\n",
    "    gsum.save(f'{figure_filepath}/individual_pairs/insilico_perturb_sum_{pair}.png', height = 2, width = 8)\n",
    "    gsum.save(f'{figure_filepath}/individual_pairs/insilico_perturb_sum_{pair}.pdf', height = 2, width = 8)\n",
    "    gsum"
   ]
  },
  {
   "cell_type": "markdown",
   "metadata": {},
   "source": [
    "# Collect in silico perturbations across Zelda affinities\n",
    "\n",
    "Similar to the analysis above, instead of doing TF-TF pairwise comparisons of cooperativity, we wish to investigate the role that Zld affinities play on different motifs. We will select the key binding Zelda affinities and compare how Zelda influences the difference TFs. This will be run similarly to the code above and saved as an SGE script under `bpnet_generate_in_silico_zld_affinity_data.py`. The returned outcome will be a large `tsv.gz` tidied data.frame of the prediction scores.\n",
    "\n",
    "There are some minor differences from the previous analysis. We will look at Zelda-TF motif pairs across varying motif affinities, from 5-200bp (only nucleosome-range). The same trials (64) will be used. "
   ]
  },
  {
   "cell_type": "code",
   "execution_count": 9,
   "metadata": {},
   "outputs": [],
   "source": [
    "%%script false --no-raise-error\n",
    "!qsub scripts/bpnet_generate_in_silico_zld_affinity_data.sge"
   ]
  },
  {
   "cell_type": "markdown",
   "metadata": {},
   "source": [
    "After this, we will import these results to parse them down to the needed values for the figure. We will average the cooperativity values over the distances and extract the TF task response to varying Zld affinity."
   ]
  },
  {
   "cell_type": "code",
   "execution_count": 10,
   "metadata": {},
   "outputs": [
    {
     "data": {
      "text/html": [
       "<div>\n",
       "<style scoped>\n",
       "    .dataframe tbody tr th:only-of-type {\n",
       "        vertical-align: middle;\n",
       "    }\n",
       "\n",
       "    .dataframe tbody tr th {\n",
       "        vertical-align: top;\n",
       "    }\n",
       "\n",
       "    .dataframe thead th {\n",
       "        text-align: right;\n",
       "    }\n",
       "</style>\n",
       "<table border=\"1\" class=\"dataframe\">\n",
       "  <thead>\n",
       "    <tr style=\"text-align: right;\">\n",
       "      <th></th>\n",
       "      <th>Unnamed: 0</th>\n",
       "      <th>profile/simmetric_kl</th>\n",
       "      <th>profile/counts</th>\n",
       "      <th>profile/counts_frac</th>\n",
       "      <th>profile/max</th>\n",
       "      <th>profile/max_frac</th>\n",
       "      <th>profile/counts_max_ref</th>\n",
       "      <th>profile/counts_max_ref_frac</th>\n",
       "      <th>task</th>\n",
       "      <th>central_motif</th>\n",
       "      <th>side_motif</th>\n",
       "      <th>position</th>\n",
       "      <th>distance</th>\n",
       "    </tr>\n",
       "  </thead>\n",
       "  <tbody>\n",
       "    <tr>\n",
       "      <th>0</th>\n",
       "      <td>0</td>\n",
       "      <td>0.018487</td>\n",
       "      <td>308.202362</td>\n",
       "      <td>0.687602</td>\n",
       "      <td>1.777282</td>\n",
       "      <td>0.999899</td>\n",
       "      <td>2.607893</td>\n",
       "      <td>0.774878</td>\n",
       "      <td>Bcd</td>\n",
       "      <td>Zld</td>\n",
       "      <td>CAGGTAG</td>\n",
       "      <td>505</td>\n",
       "      <td>5</td>\n",
       "    </tr>\n",
       "    <tr>\n",
       "      <th>1</th>\n",
       "      <td>1</td>\n",
       "      <td>0.014746</td>\n",
       "      <td>211.718048</td>\n",
       "      <td>0.606572</td>\n",
       "      <td>1.064263</td>\n",
       "      <td>0.718198</td>\n",
       "      <td>1.437413</td>\n",
       "      <td>0.514922</td>\n",
       "      <td>Cad</td>\n",
       "      <td>Zld</td>\n",
       "      <td>CAGGTAG</td>\n",
       "      <td>505</td>\n",
       "      <td>5</td>\n",
       "    </tr>\n",
       "    <tr>\n",
       "      <th>2</th>\n",
       "      <td>2</td>\n",
       "      <td>0.005649</td>\n",
       "      <td>89.129303</td>\n",
       "      <td>0.669541</td>\n",
       "      <td>0.388681</td>\n",
       "      <td>0.735336</td>\n",
       "      <td>0.600954</td>\n",
       "      <td>0.578637</td>\n",
       "      <td>Dl</td>\n",
       "      <td>Zld</td>\n",
       "      <td>CAGGTAG</td>\n",
       "      <td>505</td>\n",
       "      <td>5</td>\n",
       "    </tr>\n",
       "    <tr>\n",
       "      <th>3</th>\n",
       "      <td>3</td>\n",
       "      <td>0.059213</td>\n",
       "      <td>39.228237</td>\n",
       "      <td>0.744329</td>\n",
       "      <td>0.189826</td>\n",
       "      <td>0.928237</td>\n",
       "      <td>0.270350</td>\n",
       "      <td>0.680220</td>\n",
       "      <td>GAF</td>\n",
       "      <td>Zld</td>\n",
       "      <td>CAGGTAG</td>\n",
       "      <td>505</td>\n",
       "      <td>5</td>\n",
       "    </tr>\n",
       "    <tr>\n",
       "      <th>4</th>\n",
       "      <td>4</td>\n",
       "      <td>0.023204</td>\n",
       "      <td>139.885040</td>\n",
       "      <td>0.665855</td>\n",
       "      <td>0.629612</td>\n",
       "      <td>0.742528</td>\n",
       "      <td>0.764781</td>\n",
       "      <td>0.490032</td>\n",
       "      <td>Twi</td>\n",
       "      <td>Zld</td>\n",
       "      <td>CAGGTAG</td>\n",
       "      <td>505</td>\n",
       "      <td>5</td>\n",
       "    </tr>\n",
       "  </tbody>\n",
       "</table>\n",
       "</div>"
      ],
      "text/plain": [
       "   Unnamed: 0  profile/simmetric_kl  profile/counts  profile/counts_frac  \\\n",
       "0           0              0.018487      308.202362             0.687602   \n",
       "1           1              0.014746      211.718048             0.606572   \n",
       "2           2              0.005649       89.129303             0.669541   \n",
       "3           3              0.059213       39.228237             0.744329   \n",
       "4           4              0.023204      139.885040             0.665855   \n",
       "\n",
       "   profile/max  profile/max_frac  profile/counts_max_ref  \\\n",
       "0     1.777282          0.999899                2.607893   \n",
       "1     1.064263          0.718198                1.437413   \n",
       "2     0.388681          0.735336                0.600954   \n",
       "3     0.189826          0.928237                0.270350   \n",
       "4     0.629612          0.742528                0.764781   \n",
       "\n",
       "   profile/counts_max_ref_frac task central_motif side_motif  position  \\\n",
       "0                     0.774878  Bcd           Zld    CAGGTAG       505   \n",
       "1                     0.514922  Cad           Zld    CAGGTAG       505   \n",
       "2                     0.578637   Dl           Zld    CAGGTAG       505   \n",
       "3                     0.680220  GAF           Zld    CAGGTAG       505   \n",
       "4                     0.490032  Twi           Zld    CAGGTAG       505   \n",
       "\n",
       "   distance  \n",
       "0         5  \n",
       "1         5  \n",
       "2         5  \n",
       "3         5  \n",
       "4         5  "
      ]
     },
     "execution_count": 10,
     "metadata": {},
     "output_type": "execute_result"
    }
   ],
   "source": [
    "#Define different affinities of Zld tested\n",
    "zld_seqs = ['CAGGTAG', 'CAGGTAA', 'CAGGTAC', 'CAGGTAT', 'TAGGTAG', 'TAGGTAA', 'CAGGCAG', 'CAGGCAA', 'TATCGAT']\n",
    "\n",
    "#Import in silico cooperativity values\n",
    "dfs_all = pd.read_csv(f'tsv/perturbs/binding/insilico/insilico_zld_affinity_summaries.tsv.gz', sep = '\\t')\n",
    "dfs_all.head(n=5)"
   ]
  },
  {
   "cell_type": "code",
   "execution_count": 11,
   "metadata": {},
   "outputs": [],
   "source": [
    "summary_df = dfs_all[dfs_all.task==dfs_all.central_motif].groupby(['task', 'central_motif', 'side_motif'])['profile/counts_frac'].mean().reset_index()\n",
    "summary_df['log2_cooperativity'] = np.log2(summary_df['profile/counts_frac'])\n",
    "summary_df['side_motif'] = pd.Categorical(summary_df['side_motif'], ordered=False, categories=zld_seqs[::-1])\n",
    "summary_df['central_motif'] = pd.Categorical(summary_df['central_motif'], ordered=False, categories=['Zld','GAF','Dl','Twi','Cad','Bcd'])"
   ]
  },
  {
   "cell_type": "code",
   "execution_count": 12,
   "metadata": {},
   "outputs": [],
   "source": [
    "summary_df.to_csv('tsv/perturbs/binding/insilico_zld_affinity_grouped_summaries.tsv.gz', sep = '\\t', index = False)"
   ]
  },
  {
   "cell_type": "code",
   "execution_count": 13,
   "metadata": {},
   "outputs": [
    {
     "data": {
      "image/png": "[encoded data removed]",
      "text/plain": [
       "<Figure size 500x800 with 1 Axes>"
      ]
     },
     "metadata": {},
     "output_type": "display_data"
    },
    {
     "data": {
      "text/plain": [
       "<ggplot: (-9223363307477582332)>"
      ]
     },
     "execution_count": 13,
     "metadata": {},
     "output_type": "execute_result"
    }
   ],
   "source": [
    "plotnine.options.figure_size = (5, 8)\n",
    "\n",
    "(ggplot(data = summary_df, mapping = aes(x = 'central_motif', y = 'side_motif', fill = 'log2_cooperativity'))+\n",
    "    geom_tile(color = 'black', size = .5)+\n",
    "    scale_x_discrete(name = 'TF')+\n",
    "    scale_y_discrete(name = 'Zelda sequence variant')+\n",
    "    scale_fill_gradient2(name = 'TF cooperativity to\\nZelda sequence variant', high = '#b2182b', low = '#2166ac', mid = 'white', midpoint = 0)+\n",
    "#     scale_fill_cmap(cmap_name='viridis', name = 'TF cooperativity to\\nZelda sequence variant')+\n",
    "    theme_classic())"
   ]
  },
  {
   "cell_type": "markdown",
   "metadata": {},
   "source": [
    "# Compute Zelda marginalization scores\n",
    "\n",
    "We want to investigate the role of Zelda binding in response to varying motif sequences. In order to do this, we will marginalize the motifs by:\n",
    "\n",
    "1. Measure average log counts of the background binding of Zelda over 64 random sequences.\n",
    "2. Measure average log counts of Zelda binding of (1) with a Zelda motif injected.\n",
    "3. (2) - (1) = marginalization score\n",
    "\n",
    "First, load the model."
   ]
  },
  {
   "cell_type": "code",
   "execution_count": 14,
   "metadata": {},
   "outputs": [
    {
     "name": "stderr",
     "output_type": "stream",
     "text": [
      "TF-MoDISco is using the TensorFlow backend.\n"
     ]
    }
   ],
   "source": [
    "model = BPNetSeqModel.from_mdir(model_dir)"
   ]
  },
  {
   "cell_type": "markdown",
   "metadata": {},
   "source": [
    "Next, generate the random sequences."
   ]
  },
  {
   "cell_type": "code",
   "execution_count": 15,
   "metadata": {},
   "outputs": [],
   "source": [
    "def generate_random_seq(seqlen, weights = [.25, .25, .25, .25]):\n",
    "    \"\"\"\n",
    "    Purpose: Generate a random DNA sequence of a specified length.\n",
    "    \"\"\"\n",
    "    import random\n",
    "    seq = random.choices(['A','C','G','T'], weights = weights, k=seqlen)\n",
    "    return(''.join(seq))\n",
    "\n",
    "random.seed(10)\n",
    "trials = 64\n",
    "random_seqs = [generate_random_seq(seqlen = 1000) for i in range(trials)]\n",
    "random_seqs_1he = one_hot_encode_sequences(random_seqs)"
   ]
  },
  {
   "cell_type": "markdown",
   "metadata": {},
   "source": [
    "Next, from `4_*.Rmd`, we grabbed the sequences that were found to be important for Zelda binding according to the BPNet models."
   ]
  },
  {
   "cell_type": "code",
   "execution_count": 16,
   "metadata": {},
   "outputs": [
    {
     "data": {
      "text/html": [
       "<div>\n",
       "<style scoped>\n",
       "    .dataframe tbody tr th:only-of-type {\n",
       "        vertical-align: middle;\n",
       "    }\n",
       "\n",
       "    .dataframe tbody tr th {\n",
       "        vertical-align: top;\n",
       "    }\n",
       "\n",
       "    .dataframe thead th {\n",
       "        text-align: right;\n",
       "    }\n",
       "</style>\n",
       "<table border=\"1\" class=\"dataframe\">\n",
       "  <thead>\n",
       "    <tr style=\"text-align: right;\">\n",
       "      <th></th>\n",
       "      <th>seq</th>\n",
       "      <th>freq</th>\n",
       "    </tr>\n",
       "  </thead>\n",
       "  <tbody>\n",
       "    <tr>\n",
       "      <th>0</th>\n",
       "      <td>CAGGTAG</td>\n",
       "      <td>2121</td>\n",
       "    </tr>\n",
       "    <tr>\n",
       "      <th>1</th>\n",
       "      <td>CAGGTAA</td>\n",
       "      <td>1525</td>\n",
       "    </tr>\n",
       "    <tr>\n",
       "      <th>2</th>\n",
       "      <td>CAGGTAC</td>\n",
       "      <td>667</td>\n",
       "    </tr>\n",
       "    <tr>\n",
       "      <th>3</th>\n",
       "      <td>CAGGTAT</td>\n",
       "      <td>489</td>\n",
       "    </tr>\n",
       "    <tr>\n",
       "      <th>4</th>\n",
       "      <td>TAGGTAG</td>\n",
       "      <td>250</td>\n",
       "    </tr>\n",
       "  </tbody>\n",
       "</table>\n",
       "</div>"
      ],
      "text/plain": [
       "       seq  freq\n",
       "0  CAGGTAG  2121\n",
       "1  CAGGTAA  1525\n",
       "2  CAGGTAC   667\n",
       "3  CAGGTAT   489\n",
       "4  TAGGTAG   250"
      ]
     },
     "execution_count": 16,
     "metadata": {},
     "output_type": "execute_result"
    }
   ],
   "source": [
    "seqs_df = pd.read_csv('tsv/binding_zld_seq_freqs.tsv', sep = '\\t')\n",
    "seqs_df.loc[len(seqs_df.index)] = ['TATCGAT', 0] #Add a negative control based on Nien et al., PLOS Genetics (2011)\n",
    "seqs_df.head()"
   ]
  },
  {
   "cell_type": "markdown",
   "metadata": {},
   "source": [
    "Next, inject the motifs into the random sequences and measure both values."
   ]
  },
  {
   "cell_type": "code",
   "execution_count": 17,
   "metadata": {},
   "outputs": [],
   "source": [
    "%%script false --no-raise-error\n",
    "marg_df = pd.DataFrame()\n",
    "for i,row in tqdm(seqs_df.iterrows()):\n",
    "\n",
    "    #Inject motif into random sequences\n",
    "    injected_seqs = [insert_motif(seq = s, motif = row['seq'], position = 500) for s in random_seqs]\n",
    "    injected_seqs_1he = one_hot_encode_sequences(injected_seqs)\n",
    "    \n",
    "    #Measure predictions over random sequences\n",
    "    row['random_log_counts'] = np.log(np.mean(np.sum(model.predict(random_seqs_1he)['Zld'], axis = (1,2))))\n",
    "    row['injected_log_counts'] = np.log(np.mean(np.sum(model.predict(injected_seqs_1he)['Zld'], axis = (1,2))))\n",
    "    \n",
    "    #Measure marginalization scores\n",
    "    row['marg_score'] = row['injected_log_counts'] - row['random_log_counts']\n",
    "    \n",
    "    #Append to overall pd.df\n",
    "    marg_df = marg_df.append(row)\n",
    "marg_df.to_csv('tsv/perturbs/binding/binding_zld_seq_freqs.tsv.gz', sep = '\\t', index = False)\n",
    "marg_df.head(n=30)"
   ]
  },
  {
   "cell_type": "markdown",
   "metadata": {},
   "source": [
    "Export for later processing with motif affinities."
   ]
  },
  {
   "cell_type": "code",
   "execution_count": null,
   "metadata": {},
   "outputs": [],
   "source": []
  },
  {
   "cell_type": "code",
   "execution_count": null,
   "metadata": {},
   "outputs": [],
   "source": []
  }
 ],
 "metadata": {
  "kernelspec": {
   "display_name": "bpnet",
   "language": "python",
   "name": "bpnet"
  },
  "language_info": {
   "codemirror_mode": {
    "name": "ipython",
    "version": 3
   },
   "file_extension": ".py",
   "mimetype": "text/x-python",
   "name": "python",
   "nbconvert_exporter": "python",
   "pygments_lexer": "ipython3",
   "version": "3.6.7"
  }
 },
 "nbformat": 4,
 "nbformat_minor": 4
}
